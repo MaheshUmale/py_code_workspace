{
 "cells": [
  {
   "cell_type": "code",
   "execution_count": 1,
   "id": "dc18e2e0",
   "metadata": {
    "_kg_hide-input": true,
    "_kg_hide-output": true,
    "execution": {
     "iopub.execute_input": "2022-02-19T07:42:22.609535Z",
     "iopub.status.busy": "2022-02-19T07:42:22.608060Z",
     "iopub.status.idle": "2022-02-19T07:42:32.012445Z",
     "shell.execute_reply": "2022-02-19T07:42:32.011585Z",
     "shell.execute_reply.started": "2022-02-19T06:49:57.576879Z"
    },
    "papermill": {
     "duration": 9.433799,
     "end_time": "2022-02-19T07:42:32.012631",
     "exception": false,
     "start_time": "2022-02-19T07:42:22.578832",
     "status": "completed"
    },
    "tags": []
   },
   "outputs": [
    {
     "name": "stdout",
     "output_type": "stream",
     "text": [
      "\u001b[33mWARNING: Running pip as the 'root' user can result in broken permissions and conflicting behaviour with the system package manager. It is recommended to use a virtual environment instead: https://pip.pypa.io/warnings/venv\u001b[0m\r\n"
     ]
    }
   ],
   "source": [
    "!pip install -q mplfinance"
   ]
  },
  {
   "cell_type": "code",
   "execution_count": 2,
   "id": "b2cf2f41",
   "metadata": {
    "_cell_guid": "b1076dfc-b9ad-4769-8c92-a6c4dae69d19",
    "_uuid": "8f2839f25d086af736a60e9eeb907d3b93b6e0e5",
    "execution": {
     "iopub.execute_input": "2022-02-19T07:42:32.067082Z",
     "iopub.status.busy": "2022-02-19T07:42:32.066285Z",
     "iopub.status.idle": "2022-02-19T07:42:37.449948Z",
     "shell.execute_reply": "2022-02-19T07:42:37.449050Z",
     "shell.execute_reply.started": "2022-02-19T06:50:04.923164Z"
    },
    "papermill": {
     "duration": 5.410573,
     "end_time": "2022-02-19T07:42:37.450097",
     "exception": false,
     "start_time": "2022-02-19T07:42:32.039524",
     "status": "completed"
    },
    "tags": []
   },
   "outputs": [],
   "source": [
    "# This Python 3 environment comes with many helpful analytics libraries installed\n",
    "# It is defined by the kaggle/python Docker image: https://github.com/kaggle/docker-python\n",
    "# For example, here's several helpful packages to load\n",
    "\n",
    "import numpy as np # linear algebra\n",
    "import pandas as pd # data processing, CSV file I/O (e.g. pd.read_csv)\n",
    "import os\n",
    "\n",
    "import matplotlib.pyplot as plt\n",
    "\n",
    "import tensorflow as tf\n",
    "import tensorflow.keras as keras\n",
    "from tensorflow.keras import layers\n",
    "\n",
    "import sklearn\n",
    "from sklearn.model_selection import TimeSeriesSplit\n",
    "from sklearn.metrics import classification_report, confusion_matrix\n",
    "\n",
    "import mplfinance as mplf"
   ]
  },
  {
   "cell_type": "code",
   "execution_count": 3,
   "id": "6b1e11d7",
   "metadata": {
    "execution": {
     "iopub.execute_input": "2022-02-19T07:42:37.506750Z",
     "iopub.status.busy": "2022-02-19T07:42:37.506074Z",
     "iopub.status.idle": "2022-02-19T07:42:37.509130Z",
     "shell.execute_reply": "2022-02-19T07:42:37.509523Z",
     "shell.execute_reply.started": "2022-02-19T06:50:04.931461Z"
    },
    "papermill": {
     "duration": 0.034762,
     "end_time": "2022-02-19T07:42:37.509650",
     "exception": false,
     "start_time": "2022-02-19T07:42:37.474888",
     "status": "completed"
    },
    "tags": []
   },
   "outputs": [
    {
     "data": {
      "text/plain": [
       "('1.20.3', '1.3.5', '2.6.2', '2.6.0', '0.23.2', '0.12.8b9')"
      ]
     },
     "execution_count": 3,
     "metadata": {},
     "output_type": "execute_result"
    }
   ],
   "source": [
    "np.__version__, pd.__version__, tf.__version__, keras.__version__, sklearn.__version__, mplf.__version__"
   ]
  },
  {
   "cell_type": "code",
   "execution_count": 4,
   "id": "86bab357",
   "metadata": {
    "execution": {
     "iopub.execute_input": "2022-02-19T07:42:37.562306Z",
     "iopub.status.busy": "2022-02-19T07:42:37.561650Z",
     "iopub.status.idle": "2022-02-19T07:42:37.564623Z",
     "shell.execute_reply": "2022-02-19T07:42:37.564214Z",
     "shell.execute_reply.started": "2022-02-19T06:50:04.946991Z"
    },
    "papermill": {
     "duration": 0.030226,
     "end_time": "2022-02-19T07:42:37.564719",
     "exception": false,
     "start_time": "2022-02-19T07:42:37.534493",
     "status": "completed"
    },
    "tags": []
   },
   "outputs": [],
   "source": [
    "SEED = 1291"
   ]
  },
  {
   "cell_type": "code",
   "execution_count": 5,
   "id": "b56f05f4",
   "metadata": {
    "execution": {
     "iopub.execute_input": "2022-02-19T07:42:37.620295Z",
     "iopub.status.busy": "2022-02-19T07:42:37.619786Z",
     "iopub.status.idle": "2022-02-19T07:42:38.550372Z",
     "shell.execute_reply": "2022-02-19T07:42:38.550746Z",
     "shell.execute_reply.started": "2022-02-19T06:50:04.954584Z"
    },
    "papermill": {
     "duration": 0.961916,
     "end_time": "2022-02-19T07:42:38.550955",
     "exception": false,
     "start_time": "2022-02-19T07:42:37.589039",
     "status": "completed"
    },
    "tags": []
   },
   "outputs": [
    {
     "name": "stdout",
     "output_type": "stream",
     "text": [
      "(116667, 4)\n",
      "(36724, 3)\n"
     ]
    }
   ],
   "source": [
    "ohlc = pd.read_csv(\"../input/candle-stick-patterns/ohlc.csv\", index_col=0, parse_dates=True)\n",
    "print(ohlc.shape)\n",
    "ohlc[:3]\n",
    "\n",
    "data_df = pd.read_pickle(\"../input/candlestick-eda/data_df.pkl\")\n",
    "data_df = data_df.sort_values(\"imgID\").reset_index(drop=True)\n",
    "print(data_df.shape)\n",
    "data_df[:3]\n",
    "\n",
    "Data_Size = data_df.shape[0]\n"
   ]
  },
  {
   "cell_type": "code",
   "execution_count": 6,
   "id": "0b13b4f3",
   "metadata": {
    "execution": {
     "iopub.execute_input": "2022-02-19T07:42:38.606933Z",
     "iopub.status.busy": "2022-02-19T07:42:38.606048Z",
     "iopub.status.idle": "2022-02-19T07:42:38.702733Z",
     "shell.execute_reply": "2022-02-19T07:42:38.702289Z",
     "shell.execute_reply.started": "2022-02-19T06:50:05.283741Z"
    },
    "papermill": {
     "duration": 0.126349,
     "end_time": "2022-02-19T07:42:38.702886",
     "exception": false,
     "start_time": "2022-02-19T07:42:38.576537",
     "status": "completed"
    },
    "tags": []
   },
   "outputs": [
    {
     "name": "stdout",
     "output_type": "stream",
     "text": [
      "(36724, 7)\n"
     ]
    },
    {
     "name": "stderr",
     "output_type": "stream",
     "text": [
      "/opt/conda/lib/python3.7/site-packages/ipykernel_launcher.py:1: FutureWarning: In a future version of pandas all arguments of concat except for the argument 'objs' will be keyword-only\n",
      "  \"\"\"Entry point for launching an IPython kernel.\n"
     ]
    },
    {
     "data": {
      "text/html": [
       "<div>\n",
       "<style scoped>\n",
       "    .dataframe tbody tr th:only-of-type {\n",
       "        vertical-align: middle;\n",
       "    }\n",
       "\n",
       "    .dataframe tbody tr th {\n",
       "        vertical-align: top;\n",
       "    }\n",
       "\n",
       "    .dataframe thead th {\n",
       "        text-align: right;\n",
       "    }\n",
       "</style>\n",
       "<table border=\"1\" class=\"dataframe\">\n",
       "  <thead>\n",
       "    <tr style=\"text-align: right;\">\n",
       "      <th></th>\n",
       "      <th>open</th>\n",
       "      <th>high</th>\n",
       "      <th>low</th>\n",
       "      <th>close</th>\n",
       "      <th>file_path</th>\n",
       "      <th>imgID</th>\n",
       "      <th>imgData</th>\n",
       "    </tr>\n",
       "  </thead>\n",
       "  <tbody>\n",
       "    <tr>\n",
       "      <th>0</th>\n",
       "      <td>3230.0</td>\n",
       "      <td>3240.0</td>\n",
       "      <td>3225.0</td>\n",
       "      <td>3232.0</td>\n",
       "      <td>../input/candle-stick-patterns/cs3_0.png</td>\n",
       "      <td>0</td>\n",
       "      <td>[[1, 1, 1, 1, 1, 1, 1, 1, 1, 1, 1, 1, 1, 1, 1,...</td>\n",
       "    </tr>\n",
       "    <tr>\n",
       "      <th>1</th>\n",
       "      <td>3234.0</td>\n",
       "      <td>3236.5</td>\n",
       "      <td>3221.5</td>\n",
       "      <td>3221.5</td>\n",
       "      <td>../input/candle-stick-patterns/cs3_1.png</td>\n",
       "      <td>1</td>\n",
       "      <td>[[1, 1, 1, 1, 1, 1, 1, 1, 1, 1, 1, 1, 1, 1, 1,...</td>\n",
       "    </tr>\n",
       "    <tr>\n",
       "      <th>2</th>\n",
       "      <td>3226.5</td>\n",
       "      <td>3228.0</td>\n",
       "      <td>3220.0</td>\n",
       "      <td>3228.0</td>\n",
       "      <td>../input/candle-stick-patterns/cs3_2.png</td>\n",
       "      <td>2</td>\n",
       "      <td>[[1, 1, 1, 1, 1, 1, 1, 1, 1, 1, 1, 1, 1, 1, 1,...</td>\n",
       "    </tr>\n",
       "  </tbody>\n",
       "</table>\n",
       "</div>"
      ],
      "text/plain": [
       "     open    high     low   close                                 file_path  \\\n",
       "0  3230.0  3240.0  3225.0  3232.0  ../input/candle-stick-patterns/cs3_0.png   \n",
       "1  3234.0  3236.5  3221.5  3221.5  ../input/candle-stick-patterns/cs3_1.png   \n",
       "2  3226.5  3228.0  3220.0  3228.0  ../input/candle-stick-patterns/cs3_2.png   \n",
       "\n",
       "   imgID                                            imgData  \n",
       "0      0  [[1, 1, 1, 1, 1, 1, 1, 1, 1, 1, 1, 1, 1, 1, 1,...  \n",
       "1      1  [[1, 1, 1, 1, 1, 1, 1, 1, 1, 1, 1, 1, 1, 1, 1,...  \n",
       "2      2  [[1, 1, 1, 1, 1, 1, 1, 1, 1, 1, 1, 1, 1, 1, 1,...  "
      ]
     },
     "execution_count": 6,
     "metadata": {},
     "output_type": "execute_result"
    }
   ],
   "source": [
    "data_df = pd.concat([ohlc.reset_index(drop=True)[:Data_Size],data_df],1)\n",
    "print(data_df.shape)\n",
    "data_df[:3]"
   ]
  },
  {
   "cell_type": "code",
   "execution_count": 7,
   "id": "8e20099d",
   "metadata": {
    "execution": {
     "iopub.execute_input": "2022-02-19T07:42:38.765728Z",
     "iopub.status.busy": "2022-02-19T07:42:38.764858Z",
     "iopub.status.idle": "2022-02-19T07:42:39.406132Z",
     "shell.execute_reply": "2022-02-19T07:42:39.406573Z",
     "shell.execute_reply.started": "2022-02-19T07:09:54.030169Z"
    },
    "papermill": {
     "duration": 0.676586,
     "end_time": "2022-02-19T07:42:39.406751",
     "exception": false,
     "start_time": "2022-02-19T07:42:38.730165",
     "status": "completed"
    },
    "tags": []
   },
   "outputs": [
    {
     "data": {
      "image/png": "[encoded data removed]",
      "text/plain": [
       "<Figure size 432x288 with 1 Axes>"
      ]
     },
     "metadata": {
      "needs_background": "light"
     },
     "output_type": "display_data"
    },
    {
     "name": "stdout",
     "output_type": "stream",
     "text": [
      "[0.    0.125 0.25  0.375 0.5   0.625 0.75  0.875 1.   ]\n",
      "(-0.56, -0.0101]        14583\n",
      "(-0.0024, -6.41e-05]    14583\n",
      "(-0.0101, -0.00518]     14582\n",
      "(-0.00518, -0.0024]     14582\n",
      "(0.0023, 0.00515]       14582\n",
      "(0.00515, 0.0102]       14582\n",
      "(0.0102, 2.357]         14582\n",
      "(-6.41e-05, 0.0023]     14581\n",
      "Name: high, dtype: int64\n"
     ]
    },
    {
     "data": {
      "text/plain": [
       "{Interval(-0.56, -0.0101, closed='right'): 0,\n",
       " Interval(-0.0101, -0.00518, closed='right'): 1,\n",
       " Interval(-0.00518, -0.0024, closed='right'): 2,\n",
       " Interval(-0.0024, -6.41e-05, closed='right'): 3,\n",
       " Interval(-6.41e-05, 0.0023, closed='right'): 4,\n",
       " Interval(0.0023, 0.00515, closed='right'): 5,\n",
       " Interval(0.00515, 0.0102, closed='right'): 6,\n",
       " Interval(0.0102, 2.357, closed='right'): 7}"
      ]
     },
     "execution_count": 7,
     "metadata": {},
     "output_type": "execute_result"
    }
   ],
   "source": [
    "# preparing labels to forecast rise on next 3rd bar\n",
    "# window = size 5 with center labeled <--|-->, so have to shift (5-1)/2 = 3 \n",
    "\n",
    "NBars = 3\n",
    "window_size = 5\n",
    "targetBarPos = 3\n",
    "\n",
    "\n",
    "pct_changes = ((ohlc[\"high\"].shift(-(targetBarPos+NBars)).rolling(window_size, center=True).mean() - ohlc[\"high\"])/ohlc[\"high\"])\n",
    "pct_changes.plot(kind=\"hist\", bins=120)\n",
    "plt.xlim(-0.5,0.5)\n",
    "plt.xscale(\"symlog\")\n",
    "plt.show()\n",
    "\n",
    "# categorize ranges of change\n",
    "qsize = 0.125\n",
    "qs = np.arange(0,1+qsize,qsize)\n",
    "qranges = pd.qcut(pct_changes, q = qs)\n",
    "print(qs)\n",
    "print(qranges.value_counts())\n",
    "\n",
    "# use top ranges as 1 and others as 0\n",
    "data_df[\"h_labels\"] = qranges.cat.codes.values[:Data_Size]\n",
    "data_df[\"ts\"] = qranges.index[:Data_Size]\n",
    "data_df = data_df.set_index(\"ts\")\n",
    "data_df[\"h_labels\"] = data_df[\"h_labels\"].map({\n",
    "    7:1, 6:1, \n",
    "    0:2, 1:2\n",
    "})\n",
    "data_df[\"h_labels\"] = data_df[\"h_labels\"].fillna(0) # should drop -1 first, not handled here\n",
    "\n",
    "dict(\n",
    "    zip(\n",
    "        qranges.cat.categories, \n",
    "        range(len(qranges.cat.categories))\n",
    "    )\n",
    ")\n",
    "# -1 for nan's"
   ]
  },
  {
   "cell_type": "code",
   "execution_count": 8,
   "id": "445e1c6b",
   "metadata": {
    "execution": {
     "iopub.execute_input": "2022-02-19T07:42:39.467135Z",
     "iopub.status.busy": "2022-02-19T07:42:39.466365Z",
     "iopub.status.idle": "2022-02-19T07:42:39.737176Z",
     "shell.execute_reply": "2022-02-19T07:42:39.737587Z",
     "shell.execute_reply.started": "2022-02-19T07:10:22.804301Z"
    },
    "papermill": {
     "duration": 0.301303,
     "end_time": "2022-02-19T07:42:39.737732",
     "exception": false,
     "start_time": "2022-02-19T07:42:39.436429",
     "status": "completed"
    },
    "tags": []
   },
   "outputs": [
    {
     "data": {
      "text/html": [
       "<div>\n",
       "<style scoped>\n",
       "    .dataframe tbody tr th:only-of-type {\n",
       "        vertical-align: middle;\n",
       "    }\n",
       "\n",
       "    .dataframe tbody tr th {\n",
       "        vertical-align: top;\n",
       "    }\n",
       "\n",
       "    .dataframe thead th {\n",
       "        text-align: right;\n",
       "    }\n",
       "</style>\n",
       "<table border=\"1\" class=\"dataframe\">\n",
       "  <thead>\n",
       "    <tr style=\"text-align: right;\">\n",
       "      <th></th>\n",
       "      <th>open</th>\n",
       "      <th>high</th>\n",
       "      <th>low</th>\n",
       "      <th>close</th>\n",
       "      <th>file_path</th>\n",
       "      <th>imgID</th>\n",
       "      <th>imgData</th>\n",
       "      <th>h_labels</th>\n",
       "    </tr>\n",
       "    <tr>\n",
       "      <th>ts</th>\n",
       "      <th></th>\n",
       "      <th></th>\n",
       "      <th></th>\n",
       "      <th></th>\n",
       "      <th></th>\n",
       "      <th></th>\n",
       "      <th></th>\n",
       "      <th></th>\n",
       "    </tr>\n",
       "  </thead>\n",
       "  <tbody>\n",
       "    <tr>\n",
       "      <th>2020-01-01 00:00:00</th>\n",
       "      <td>3230.0</td>\n",
       "      <td>3240.0</td>\n",
       "      <td>3225.0</td>\n",
       "      <td>3232.0</td>\n",
       "      <td>../input/candle-stick-patterns/cs3_0.png</td>\n",
       "      <td>0</td>\n",
       "      <td>[[1, 1, 1, 1, 1, 1, 1, 1, 1, 1, 1, 1, 1, 1, 1,...</td>\n",
       "      <td>0.0</td>\n",
       "    </tr>\n",
       "    <tr>\n",
       "      <th>2020-01-01 12:00:00</th>\n",
       "      <td>3234.0</td>\n",
       "      <td>3236.5</td>\n",
       "      <td>3221.5</td>\n",
       "      <td>3221.5</td>\n",
       "      <td>../input/candle-stick-patterns/cs3_1.png</td>\n",
       "      <td>1</td>\n",
       "      <td>[[1, 1, 1, 1, 1, 1, 1, 1, 1, 1, 1, 1, 1, 1, 1,...</td>\n",
       "      <td>0.0</td>\n",
       "    </tr>\n",
       "    <tr>\n",
       "      <th>2020-01-02 00:00:00</th>\n",
       "      <td>3226.5</td>\n",
       "      <td>3228.0</td>\n",
       "      <td>3220.0</td>\n",
       "      <td>3228.0</td>\n",
       "      <td>../input/candle-stick-patterns/cs3_2.png</td>\n",
       "      <td>2</td>\n",
       "      <td>[[1, 1, 1, 1, 1, 1, 1, 1, 1, 1, 1, 1, 1, 1, 1,...</td>\n",
       "      <td>2.0</td>\n",
       "    </tr>\n",
       "    <tr>\n",
       "      <th>2020-01-02 12:00:00</th>\n",
       "      <td>3229.0</td>\n",
       "      <td>3243.5</td>\n",
       "      <td>3229.0</td>\n",
       "      <td>3231.5</td>\n",
       "      <td>../input/candle-stick-patterns/cs3_3.png</td>\n",
       "      <td>3</td>\n",
       "      <td>[[1, 1, 1, 1, 1, 1, 1, 1, 1, 1, 1, 1, 1, 1, 1,...</td>\n",
       "      <td>2.0</td>\n",
       "    </tr>\n",
       "    <tr>\n",
       "      <th>2020-01-03 00:00:00</th>\n",
       "      <td>3233.0</td>\n",
       "      <td>3234.5</td>\n",
       "      <td>3217.0</td>\n",
       "      <td>3219.5</td>\n",
       "      <td>../input/candle-stick-patterns/cs3_4.png</td>\n",
       "      <td>4</td>\n",
       "      <td>[[1, 1, 1, 1, 1, 1, 1, 1, 1, 1, 1, 1, 1, 1, 1,...</td>\n",
       "      <td>2.0</td>\n",
       "    </tr>\n",
       "    <tr>\n",
       "      <th>2020-01-03 12:00:00</th>\n",
       "      <td>3221.0</td>\n",
       "      <td>3223.0</td>\n",
       "      <td>3208.0</td>\n",
       "      <td>3213.5</td>\n",
       "      <td>../input/candle-stick-patterns/cs3_5.png</td>\n",
       "      <td>5</td>\n",
       "      <td>[[1, 1, 1, 1, 1, 1, 1, 1, 1, 1, 1, 1, 1, 1, 1,...</td>\n",
       "      <td>0.0</td>\n",
       "    </tr>\n",
       "    <tr>\n",
       "      <th>2020-01-04 00:00:00</th>\n",
       "      <td>3215.5</td>\n",
       "      <td>3216.5</td>\n",
       "      <td>3208.5</td>\n",
       "      <td>3209.5</td>\n",
       "      <td>../input/candle-stick-patterns/cs3_6.png</td>\n",
       "      <td>6</td>\n",
       "      <td>[[1, 1, 1, 1, 1, 1, 1, 1, 1, 1, 1, 1, 1, 1, 1,...</td>\n",
       "      <td>0.0</td>\n",
       "    </tr>\n",
       "    <tr>\n",
       "      <th>2020-01-04 12:00:00</th>\n",
       "      <td>3210.5</td>\n",
       "      <td>3210.5</td>\n",
       "      <td>3200.0</td>\n",
       "      <td>3201.0</td>\n",
       "      <td>../input/candle-stick-patterns/cs3_7.png</td>\n",
       "      <td>7</td>\n",
       "      <td>[[1, 1, 1, 1, 1, 1, 1, 1, 1, 1, 1, 1, 1, 1, 1,...</td>\n",
       "      <td>0.0</td>\n",
       "    </tr>\n",
       "    <tr>\n",
       "      <th>2020-01-05 00:00:00</th>\n",
       "      <td>3196.0</td>\n",
       "      <td>3202.5</td>\n",
       "      <td>3191.5</td>\n",
       "      <td>3200.5</td>\n",
       "      <td>../input/candle-stick-patterns/cs3_8.png</td>\n",
       "      <td>8</td>\n",
       "      <td>[[1, 1, 1, 1, 1, 1, 1, 1, 1, 1, 1, 1, 1, 1, 1,...</td>\n",
       "      <td>1.0</td>\n",
       "    </tr>\n",
       "    <tr>\n",
       "      <th>2020-01-05 12:00:00</th>\n",
       "      <td>3201.5</td>\n",
       "      <td>3205.5</td>\n",
       "      <td>3192.5</td>\n",
       "      <td>3205.5</td>\n",
       "      <td>../input/candle-stick-patterns/cs3_9.png</td>\n",
       "      <td>9</td>\n",
       "      <td>[[1, 1, 1, 1, 1, 1, 1, 1, 1, 1, 1, 1, 1, 1, 1,...</td>\n",
       "      <td>1.0</td>\n",
       "    </tr>\n",
       "  </tbody>\n",
       "</table>\n",
       "</div>"
      ],
      "text/plain": [
       "                       open    high     low   close  \\\n",
       "ts                                                    \n",
       "2020-01-01 00:00:00  3230.0  3240.0  3225.0  3232.0   \n",
       "2020-01-01 12:00:00  3234.0  3236.5  3221.5  3221.5   \n",
       "2020-01-02 00:00:00  3226.5  3228.0  3220.0  3228.0   \n",
       "2020-01-02 12:00:00  3229.0  3243.5  3229.0  3231.5   \n",
       "2020-01-03 00:00:00  3233.0  3234.5  3217.0  3219.5   \n",
       "2020-01-03 12:00:00  3221.0  3223.0  3208.0  3213.5   \n",
       "2020-01-04 00:00:00  3215.5  3216.5  3208.5  3209.5   \n",
       "2020-01-04 12:00:00  3210.5  3210.5  3200.0  3201.0   \n",
       "2020-01-05 00:00:00  3196.0  3202.5  3191.5  3200.5   \n",
       "2020-01-05 12:00:00  3201.5  3205.5  3192.5  3205.5   \n",
       "\n",
       "                                                    file_path  imgID  \\\n",
       "ts                                                                     \n",
       "2020-01-01 00:00:00  ../input/candle-stick-patterns/cs3_0.png      0   \n",
       "2020-01-01 12:00:00  ../input/candle-stick-patterns/cs3_1.png      1   \n",
       "2020-01-02 00:00:00  ../input/candle-stick-patterns/cs3_2.png      2   \n",
       "2020-01-02 12:00:00  ../input/candle-stick-patterns/cs3_3.png      3   \n",
       "2020-01-03 00:00:00  ../input/candle-stick-patterns/cs3_4.png      4   \n",
       "2020-01-03 12:00:00  ../input/candle-stick-patterns/cs3_5.png      5   \n",
       "2020-01-04 00:00:00  ../input/candle-stick-patterns/cs3_6.png      6   \n",
       "2020-01-04 12:00:00  ../input/candle-stick-patterns/cs3_7.png      7   \n",
       "2020-01-05 00:00:00  ../input/candle-stick-patterns/cs3_8.png      8   \n",
       "2020-01-05 12:00:00  ../input/candle-stick-patterns/cs3_9.png      9   \n",
       "\n",
       "                                                               imgData  \\\n",
       "ts                                                                       \n",
       "2020-01-01 00:00:00  [[1, 1, 1, 1, 1, 1, 1, 1, 1, 1, 1, 1, 1, 1, 1,...   \n",
       "2020-01-01 12:00:00  [[1, 1, 1, 1, 1, 1, 1, 1, 1, 1, 1, 1, 1, 1, 1,...   \n",
       "2020-01-02 00:00:00  [[1, 1, 1, 1, 1, 1, 1, 1, 1, 1, 1, 1, 1, 1, 1,...   \n",
       "2020-01-02 12:00:00  [[1, 1, 1, 1, 1, 1, 1, 1, 1, 1, 1, 1, 1, 1, 1,...   \n",
       "2020-01-03 00:00:00  [[1, 1, 1, 1, 1, 1, 1, 1, 1, 1, 1, 1, 1, 1, 1,...   \n",
       "2020-01-03 12:00:00  [[1, 1, 1, 1, 1, 1, 1, 1, 1, 1, 1, 1, 1, 1, 1,...   \n",
       "2020-01-04 00:00:00  [[1, 1, 1, 1, 1, 1, 1, 1, 1, 1, 1, 1, 1, 1, 1,...   \n",
       "2020-01-04 12:00:00  [[1, 1, 1, 1, 1, 1, 1, 1, 1, 1, 1, 1, 1, 1, 1,...   \n",
       "2020-01-05 00:00:00  [[1, 1, 1, 1, 1, 1, 1, 1, 1, 1, 1, 1, 1, 1, 1,...   \n",
       "2020-01-05 12:00:00  [[1, 1, 1, 1, 1, 1, 1, 1, 1, 1, 1, 1, 1, 1, 1,...   \n",
       "\n",
       "                     h_labels  \n",
       "ts                             \n",
       "2020-01-01 00:00:00       0.0  \n",
       "2020-01-01 12:00:00       0.0  \n",
       "2020-01-02 00:00:00       2.0  \n",
       "2020-01-02 12:00:00       2.0  \n",
       "2020-01-03 00:00:00       2.0  \n",
       "2020-01-03 12:00:00       0.0  \n",
       "2020-01-04 00:00:00       0.0  \n",
       "2020-01-04 12:00:00       0.0  \n",
       "2020-01-05 00:00:00       1.0  \n",
       "2020-01-05 12:00:00       1.0  "
      ]
     },
     "execution_count": 8,
     "metadata": {},
     "output_type": "execute_result"
    }
   ],
   "source": [
    "data_df.head(10)"
   ]
  },
  {
   "cell_type": "markdown",
   "id": "17025b6b",
   "metadata": {
    "papermill": {
     "duration": 0.028551,
     "end_time": "2022-02-19T07:42:39.794913",
     "exception": false,
     "start_time": "2022-02-19T07:42:39.766362",
     "status": "completed"
    },
    "tags": []
   },
   "source": [
    "# Prep X, y"
   ]
  },
  {
   "cell_type": "code",
   "execution_count": 9,
   "id": "0cd76242",
   "metadata": {
    "execution": {
     "iopub.execute_input": "2022-02-19T07:42:39.858056Z",
     "iopub.status.busy": "2022-02-19T07:42:39.857202Z",
     "iopub.status.idle": "2022-02-19T07:42:39.950750Z",
     "shell.execute_reply": "2022-02-19T07:42:39.950259Z",
     "shell.execute_reply.started": "2022-02-19T07:10:23.531749Z"
    },
    "papermill": {
     "duration": 0.127734,
     "end_time": "2022-02-19T07:42:39.950910",
     "exception": false,
     "start_time": "2022-02-19T07:42:39.823176",
     "status": "completed"
    },
    "tags": []
   },
   "outputs": [],
   "source": [
    "X = data_df.sort_values(\"imgID\")[\"imgData\"].apply(lambda x: x.reshape(1,40,40,1))\n",
    "X = np.concatenate(X.values)\n",
    "X.shape\n",
    "\n",
    "y = data_df[\"h_labels\"]"
   ]
  },
  {
   "cell_type": "code",
   "execution_count": 10,
   "id": "8850aae7",
   "metadata": {
    "execution": {
     "iopub.execute_input": "2022-02-19T07:42:40.016157Z",
     "iopub.status.busy": "2022-02-19T07:42:40.015528Z",
     "iopub.status.idle": "2022-02-19T07:42:40.018155Z",
     "shell.execute_reply": "2022-02-19T07:42:40.018555Z",
     "shell.execute_reply.started": "2022-02-19T07:10:24.226140Z"
    },
    "papermill": {
     "duration": 0.039036,
     "end_time": "2022-02-19T07:42:40.018675",
     "exception": false,
     "start_time": "2022-02-19T07:42:39.979639",
     "status": "completed"
    },
    "tags": []
   },
   "outputs": [
    {
     "data": {
      "text/plain": [
       "0.0    21681\n",
       "1.0     7645\n",
       "2.0     7398\n",
       "Name: h_labels, dtype: int64"
      ]
     },
     "execution_count": 10,
     "metadata": {},
     "output_type": "execute_result"
    }
   ],
   "source": [
    "y.value_counts() # 1: buy, 2: sell"
   ]
  },
  {
   "cell_type": "code",
   "execution_count": 11,
   "id": "354cc723",
   "metadata": {
    "execution": {
     "iopub.execute_input": "2022-02-19T07:42:40.081622Z",
     "iopub.status.busy": "2022-02-19T07:42:40.080182Z",
     "iopub.status.idle": "2022-02-19T07:42:40.086871Z",
     "shell.execute_reply": "2022-02-19T07:42:40.087244Z",
     "shell.execute_reply.started": "2022-02-19T07:13:35.913065Z"
    },
    "papermill": {
     "duration": 0.039835,
     "end_time": "2022-02-19T07:42:40.087374",
     "exception": false,
     "start_time": "2022-02-19T07:42:40.047539",
     "status": "completed"
    },
    "tags": []
   },
   "outputs": [
    {
     "data": {
      "text/plain": [
       "{0: 1.0, 1: 2.8359712230215828, 2: 2.9306569343065694}"
      ]
     },
     "execution_count": 11,
     "metadata": {},
     "output_type": "execute_result"
    }
   ],
   "source": [
    "class_weights = (y.astype(int).value_counts().max() / y.astype(int).value_counts()).to_dict()\n",
    "class_weights"
   ]
  },
  {
   "cell_type": "markdown",
   "id": "d057dd5a",
   "metadata": {
    "papermill": {
     "duration": 0.02973,
     "end_time": "2022-02-19T07:42:40.146607",
     "exception": false,
     "start_time": "2022-02-19T07:42:40.116877",
     "status": "completed"
    },
    "tags": []
   },
   "source": [
    "# Split Data"
   ]
  },
  {
   "cell_type": "code",
   "execution_count": 12,
   "id": "3cfff118",
   "metadata": {
    "execution": {
     "iopub.execute_input": "2022-02-19T07:42:40.210466Z",
     "iopub.status.busy": "2022-02-19T07:42:40.209709Z",
     "iopub.status.idle": "2022-02-19T07:42:40.212898Z",
     "shell.execute_reply": "2022-02-19T07:42:40.212442Z",
     "shell.execute_reply.started": "2022-02-19T07:13:40.224781Z"
    },
    "papermill": {
     "duration": 0.036357,
     "end_time": "2022-02-19T07:42:40.213022",
     "exception": false,
     "start_time": "2022-02-19T07:42:40.176665",
     "status": "completed"
    },
    "tags": []
   },
   "outputs": [
    {
     "data": {
      "text/plain": [
       "(36724, 40, 40, 1)"
      ]
     },
     "execution_count": 12,
     "metadata": {},
     "output_type": "execute_result"
    }
   ],
   "source": [
    "X.shape"
   ]
  },
  {
   "cell_type": "code",
   "execution_count": 13,
   "id": "d03aa010",
   "metadata": {
    "execution": {
     "iopub.execute_input": "2022-02-19T07:42:40.277757Z",
     "iopub.status.busy": "2022-02-19T07:42:40.276825Z",
     "iopub.status.idle": "2022-02-19T07:42:40.296793Z",
     "shell.execute_reply": "2022-02-19T07:42:40.297232Z",
     "shell.execute_reply.started": "2022-02-19T07:13:40.585338Z"
    },
    "papermill": {
     "duration": 0.054944,
     "end_time": "2022-02-19T07:42:40.297387",
     "exception": false,
     "start_time": "2022-02-19T07:42:40.242443",
     "status": "completed"
    },
    "tags": []
   },
   "outputs": [
    {
     "data": {
      "text/plain": [
       "[(12242, 40, 40, 1), (12241, 40, 40, 1), (12242, 3), (12241, 3)]"
      ]
     },
     "execution_count": 13,
     "metadata": {},
     "output_type": "execute_result"
    }
   ],
   "source": [
    "tss = TimeSeriesSplit(n_splits=2)\n",
    "for train_idx, test_idx in tss.split(X,y):\n",
    "    break\n",
    "\n",
    "X_tr, X_ts = X[train_idx], X[test_idx]\n",
    "y_tr, y_ts = keras.utils.to_categorical(y[train_idx]), keras.utils.to_categorical(y[test_idx])\n",
    "\n",
    "[x.shape for x in [X_tr, X_ts, y_tr, y_ts]]"
   ]
  },
  {
   "cell_type": "code",
   "execution_count": 14,
   "id": "198ff326",
   "metadata": {
    "execution": {
     "iopub.execute_input": "2022-02-19T07:42:40.362021Z",
     "iopub.status.busy": "2022-02-19T07:42:40.361404Z",
     "iopub.status.idle": "2022-02-19T07:42:44.072621Z",
     "shell.execute_reply": "2022-02-19T07:42:44.073124Z",
     "shell.execute_reply.started": "2022-02-19T07:24:47.392645Z"
    },
    "papermill": {
     "duration": 3.745988,
     "end_time": "2022-02-19T07:42:44.073307",
     "exception": false,
     "start_time": "2022-02-19T07:42:40.327319",
     "status": "completed"
    },
    "tags": []
   },
   "outputs": [
    {
     "name": "stderr",
     "output_type": "stream",
     "text": [
      "2022-02-19 07:42:40.465936: I tensorflow/stream_executor/cuda/cuda_gpu_executor.cc:937] successful NUMA node read from SysFS had negative value (-1), but there must be at least one NUMA node, so returning NUMA node zero\n",
      "2022-02-19 07:42:40.560307: I tensorflow/stream_executor/cuda/cuda_gpu_executor.cc:937] successful NUMA node read from SysFS had negative value (-1), but there must be at least one NUMA node, so returning NUMA node zero\n",
      "2022-02-19 07:42:40.561024: I tensorflow/stream_executor/cuda/cuda_gpu_executor.cc:937] successful NUMA node read from SysFS had negative value (-1), but there must be at least one NUMA node, so returning NUMA node zero\n",
      "2022-02-19 07:42:40.562262: I tensorflow/core/platform/cpu_feature_guard.cc:142] This TensorFlow binary is optimized with oneAPI Deep Neural Network Library (oneDNN) to use the following CPU instructions in performance-critical operations:  AVX2 AVX512F FMA\n",
      "To enable them in other operations, rebuild TensorFlow with the appropriate compiler flags.\n",
      "2022-02-19 07:42:40.563069: I tensorflow/stream_executor/cuda/cuda_gpu_executor.cc:937] successful NUMA node read from SysFS had negative value (-1), but there must be at least one NUMA node, so returning NUMA node zero\n",
      "2022-02-19 07:42:40.563852: I tensorflow/stream_executor/cuda/cuda_gpu_executor.cc:937] successful NUMA node read from SysFS had negative value (-1), but there must be at least one NUMA node, so returning NUMA node zero\n",
      "2022-02-19 07:42:40.564508: I tensorflow/stream_executor/cuda/cuda_gpu_executor.cc:937] successful NUMA node read from SysFS had negative value (-1), but there must be at least one NUMA node, so returning NUMA node zero\n",
      "2022-02-19 07:42:42.208361: I tensorflow/stream_executor/cuda/cuda_gpu_executor.cc:937] successful NUMA node read from SysFS had negative value (-1), but there must be at least one NUMA node, so returning NUMA node zero\n",
      "2022-02-19 07:42:42.209229: I tensorflow/stream_executor/cuda/cuda_gpu_executor.cc:937] successful NUMA node read from SysFS had negative value (-1), but there must be at least one NUMA node, so returning NUMA node zero\n",
      "2022-02-19 07:42:42.209882: I tensorflow/stream_executor/cuda/cuda_gpu_executor.cc:937] successful NUMA node read from SysFS had negative value (-1), but there must be at least one NUMA node, so returning NUMA node zero\n",
      "2022-02-19 07:42:42.210456: I tensorflow/core/common_runtime/gpu/gpu_device.cc:1510] Created device /job:localhost/replica:0/task:0/device:GPU:0 with 15403 MB memory:  -> device: 0, name: Tesla P100-PCIE-16GB, pci bus id: 0000:00:04.0, compute capability: 6.0\n"
     ]
    },
    {
     "name": "stdout",
     "output_type": "stream",
     "text": [
      "Model: \"sequential\"\n",
      "_________________________________________________________________\n",
      "Layer (type)                 Output Shape              Param #   \n",
      "=================================================================\n",
      "conv2d (Conv2D)              (None, 40, 40, 16)        80        \n",
      "_________________________________________________________________\n",
      "conv2d_1 (Conv2D)            (None, 40, 40, 16)        2320      \n",
      "_________________________________________________________________\n",
      "max_pooling2d (MaxPooling2D) (None, 20, 20, 16)        0         \n",
      "_________________________________________________________________\n",
      "batch_normalization (BatchNo (None, 20, 20, 16)        64        \n",
      "_________________________________________________________________\n",
      "dropout (Dropout)            (None, 20, 20, 16)        0         \n",
      "_________________________________________________________________\n",
      "conv2d_2 (Conv2D)            (None, 20, 20, 16)        2320      \n",
      "_________________________________________________________________\n",
      "conv2d_3 (Conv2D)            (None, 20, 20, 16)        2320      \n",
      "_________________________________________________________________\n",
      "max_pooling2d_1 (MaxPooling2 (None, 10, 10, 16)        0         \n",
      "_________________________________________________________________\n",
      "batch_normalization_1 (Batch (None, 10, 10, 16)        64        \n",
      "_________________________________________________________________\n",
      "dropout_1 (Dropout)          (None, 10, 10, 16)        0         \n",
      "_________________________________________________________________\n",
      "conv2d_4 (Conv2D)            (None, 10, 10, 16)        2320      \n",
      "_________________________________________________________________\n",
      "conv2d_5 (Conv2D)            (None, 10, 10, 16)        2320      \n",
      "_________________________________________________________________\n",
      "max_pooling2d_2 (MaxPooling2 (None, 5, 5, 16)          0         \n",
      "_________________________________________________________________\n",
      "conv2d_6 (Conv2D)            (None, 5, 5, 16)          2320      \n",
      "=================================================================\n",
      "Total params: 14,128\n",
      "Trainable params: 0\n",
      "Non-trainable params: 14,128\n",
      "_________________________________________________________________\n"
     ]
    }
   ],
   "source": [
    "keras.backend.clear_session()\n",
    "model = keras.models.load_model('../input/candle-stick-autoencoder/best_model.ckp')\n",
    "# model.summary()\n",
    "encoder = keras.models.Sequential(model.layers[:15])\n",
    "encoder.compile(optimizer=\"adam\", loss='binary_crossentropy')\n",
    "\n",
    "for layer in encoder.layers: layer.trainable = False\n",
    "encoder.summary()"
   ]
  },
  {
   "cell_type": "code",
   "execution_count": 15,
   "id": "3a50354e",
   "metadata": {
    "execution": {
     "iopub.execute_input": "2022-02-19T07:42:44.153192Z",
     "iopub.status.busy": "2022-02-19T07:42:44.152308Z",
     "iopub.status.idle": "2022-02-19T07:42:44.284129Z",
     "shell.execute_reply": "2022-02-19T07:42:44.283605Z",
     "shell.execute_reply.started": "2022-02-19T07:33:19.284129Z"
    },
    "papermill": {
     "duration": 0.18006,
     "end_time": "2022-02-19T07:42:44.284277",
     "exception": false,
     "start_time": "2022-02-19T07:42:44.104217",
     "status": "completed"
    },
    "tags": []
   },
   "outputs": [
    {
     "name": "stdout",
     "output_type": "stream",
     "text": [
      "Model: \"sequential_1\"\n",
      "_________________________________________________________________\n",
      "Layer (type)                 Output Shape              Param #   \n",
      "=================================================================\n",
      "conv2d (Conv2D)              multiple                  80        \n",
      "_________________________________________________________________\n",
      "conv2d_1 (Conv2D)            multiple                  2320      \n",
      "_________________________________________________________________\n",
      "max_pooling2d (MaxPooling2D) multiple                  0         \n",
      "_________________________________________________________________\n",
      "batch_normalization (BatchNo multiple                  64        \n",
      "_________________________________________________________________\n",
      "dropout (Dropout)            multiple                  0         \n",
      "_________________________________________________________________\n",
      "conv2d_2 (Conv2D)            multiple                  2320      \n",
      "_________________________________________________________________\n",
      "conv2d_3 (Conv2D)            multiple                  2320      \n",
      "_________________________________________________________________\n",
      "max_pooling2d_1 (MaxPooling2 multiple                  0         \n",
      "_________________________________________________________________\n",
      "batch_normalization_1 (Batch multiple                  64        \n",
      "_________________________________________________________________\n",
      "dropout_1 (Dropout)          multiple                  0         \n",
      "_________________________________________________________________\n",
      "conv2d_4 (Conv2D)            multiple                  2320      \n",
      "_________________________________________________________________\n",
      "conv2d_5 (Conv2D)            multiple                  2320      \n",
      "_________________________________________________________________\n",
      "max_pooling2d_2 (MaxPooling2 multiple                  0         \n",
      "_________________________________________________________________\n",
      "conv2d_6 (Conv2D)            multiple                  2320      \n",
      "_________________________________________________________________\n",
      "flatten (Flatten)            (128, 400)                0         \n",
      "_________________________________________________________________\n",
      "dense_clf (Dense)            (128, 256)                102656    \n",
      "_________________________________________________________________\n",
      "bn1 (BatchNormalization)     (128, 256)                1024      \n",
      "_________________________________________________________________\n",
      "drop_clf1 (Dropout)          (128, 256)                0         \n",
      "_________________________________________________________________\n",
      "dense_clf_1 (Dense)          (128, 128)                32896     \n",
      "_________________________________________________________________\n",
      "bn2 (BatchNormalization)     (128, 128)                512       \n",
      "_________________________________________________________________\n",
      "drop_clf2 (Dropout)          (128, 128)                0         \n",
      "_________________________________________________________________\n",
      "dense_clf_2 (Dense)          (128, 64)                 8256      \n",
      "_________________________________________________________________\n",
      "bn3 (BatchNormalization)     (128, 64)                 256       \n",
      "_________________________________________________________________\n",
      "drop_clf3 (Dropout)          (128, 64)                 0         \n",
      "_________________________________________________________________\n",
      "dense_clf_3 (Dense)          (128, 12)                 780       \n",
      "_________________________________________________________________\n",
      "dense_clf_4 (Dense)          (128, 3)                  39        \n",
      "=================================================================\n",
      "Total params: 160,547\n",
      "Trainable params: 144,627\n",
      "Non-trainable params: 15,920\n",
      "_________________________________________________________________\n"
     ]
    }
   ],
   "source": [
    "def define_model():\n",
    "    clf = keras.models.Sequential(encoder.layers + \n",
    "                                 [\n",
    "                                     layers.Flatten(),\n",
    "                                     layers.Dense(256, activation=\"relu\", name=\"dense_clf\"),\n",
    "                                     layers.BatchNormalization(trainable=False, name=\"bn1\"),\n",
    "                                     layers.Dropout(0.3, name=\"drop_clf1\"),\n",
    "                                     layers.Dense(128, activation=\"relu\", name=\"dense_clf_1\"),\n",
    "                                     layers.BatchNormalization(trainable=False, name=\"bn2\"),\n",
    "                                     layers.Dropout(0.3, name=\"drop_clf2\"),\n",
    "                                     layers.Dense(64, activation=\"relu\", name=\"dense_clf_2\"),\n",
    "                                     layers.BatchNormalization(trainable=False, name=\"bn3\"),\n",
    "                                     layers.Dropout(0.3, name=\"drop_clf3\"),\n",
    "                                     layers.Dense(12, activation=\"relu\", name=\"dense_clf_3\"),\n",
    "                                     layers.Dense(3, activation=\"softmax\", name=\"dense_clf_4\"),\n",
    "                                 ])\n",
    "    adam = keras.optimizers.Adam(learning_rate=0.001)\n",
    "    clf.compile(optimizer=adam, loss='binary_crossentropy')\n",
    "    clf.build(input_shape=(128,40,40,1))\n",
    "    return clf\n",
    "\n",
    "clf = define_model()    \n",
    "clf.summary()"
   ]
  },
  {
   "cell_type": "code",
   "execution_count": 16,
   "id": "5cd99789",
   "metadata": {
    "_kg_hide-output": true,
    "execution": {
     "iopub.execute_input": "2022-02-19T07:42:44.361743Z",
     "iopub.status.busy": "2022-02-19T07:42:44.360892Z",
     "iopub.status.idle": "2022-02-19T07:43:13.107614Z",
     "shell.execute_reply": "2022-02-19T07:43:13.108064Z",
     "shell.execute_reply.started": "2022-02-19T07:39:49.216605Z"
    },
    "papermill": {
     "duration": 28.792804,
     "end_time": "2022-02-19T07:43:13.108223",
     "exception": false,
     "start_time": "2022-02-19T07:42:44.315419",
     "status": "completed"
    },
    "tags": []
   },
   "outputs": [
    {
     "name": "stderr",
     "output_type": "stream",
     "text": [
      "2022-02-19 07:42:44.649458: I tensorflow/compiler/mlir/mlir_graph_optimization_pass.cc:185] None of the MLIR Optimization Passes are enabled (registered 2)\n"
     ]
    },
    {
     "name": "stdout",
     "output_type": "stream",
     "text": [
      "Epoch 1/1500\n"
     ]
    },
    {
     "name": "stderr",
     "output_type": "stream",
     "text": [
      "2022-02-19 07:42:46.397284: I tensorflow/stream_executor/cuda/cuda_dnn.cc:369] Loaded cuDNN version 8005\n"
     ]
    },
    {
     "name": "stdout",
     "output_type": "stream",
     "text": [
      "77/77 [==============================] - 7s 9ms/step - loss: 0.5638 - val_loss: 0.4865\n",
      "\n",
      "Epoch 00001: val_loss improved from inf to 0.48649, saving model to best_model_clf.ckp\n"
     ]
    },
    {
     "name": "stderr",
     "output_type": "stream",
     "text": [
      "2022-02-19 07:42:53.326153: W tensorflow/python/util/util.cc:348] Sets are not currently considered sequences, but this may change in the future, so consider avoiding using them.\n"
     ]
    },
    {
     "name": "stdout",
     "output_type": "stream",
     "text": [
      "Epoch 2/1500\n",
      "77/77 [==============================] - 0s 6ms/step - loss: 0.5195 - val_loss: 0.4939\n",
      "\n",
      "Epoch 00002: val_loss did not improve from 0.48649\n",
      "Epoch 3/1500\n",
      "77/77 [==============================] - 0s 5ms/step - loss: 0.5062 - val_loss: 0.4844\n",
      "\n",
      "Epoch 00003: val_loss improved from 0.48649 to 0.48436, saving model to best_model_clf.ckp\n",
      "Epoch 4/1500\n",
      "77/77 [==============================] - 0s 6ms/step - loss: 0.5036 - val_loss: 0.4867\n",
      "\n",
      "Epoch 00004: val_loss did not improve from 0.48436\n",
      "Epoch 5/1500\n",
      "77/77 [==============================] - 0s 5ms/step - loss: 0.5012 - val_loss: 0.4862\n",
      "\n",
      "Epoch 00005: val_loss did not improve from 0.48436\n",
      "Epoch 6/1500\n",
      "77/77 [==============================] - 0s 5ms/step - loss: 0.4978 - val_loss: 0.4848\n",
      "\n",
      "Epoch 00006: val_loss did not improve from 0.48436\n",
      "Epoch 7/1500\n",
      "77/77 [==============================] - 0s 5ms/step - loss: 0.4976 - val_loss: 0.4875\n",
      "\n",
      "Epoch 00007: val_loss did not improve from 0.48436\n",
      "Epoch 8/1500\n",
      "77/77 [==============================] - 0s 5ms/step - loss: 0.4923 - val_loss: 0.4736\n",
      "\n",
      "Epoch 00008: val_loss improved from 0.48436 to 0.47361, saving model to best_model_clf.ckp\n",
      "Epoch 9/1500\n",
      "77/77 [==============================] - 0s 5ms/step - loss: 0.4943 - val_loss: 0.4945\n",
      "\n",
      "Epoch 00009: val_loss did not improve from 0.47361\n",
      "Epoch 10/1500\n",
      "77/77 [==============================] - 0s 6ms/step - loss: 0.4923 - val_loss: 0.4832\n",
      "\n",
      "Epoch 00010: val_loss did not improve from 0.47361\n",
      "Epoch 11/1500\n",
      "77/77 [==============================] - 0s 5ms/step - loss: 0.4893 - val_loss: 0.4809\n",
      "\n",
      "Epoch 00011: val_loss did not improve from 0.47361\n",
      "Epoch 12/1500\n",
      "77/77 [==============================] - 0s 6ms/step - loss: 0.4899 - val_loss: 0.4742\n",
      "\n",
      "Epoch 00012: val_loss did not improve from 0.47361\n",
      "Epoch 13/1500\n",
      "77/77 [==============================] - 0s 5ms/step - loss: 0.4878 - val_loss: 0.4863\n",
      "\n",
      "Epoch 00013: val_loss did not improve from 0.47361\n",
      "Epoch 14/1500\n",
      "77/77 [==============================] - 0s 5ms/step - loss: 0.4874 - val_loss: 0.4791\n",
      "\n",
      "Epoch 00014: val_loss did not improve from 0.47361\n",
      "Epoch 15/1500\n",
      "77/77 [==============================] - 1s 8ms/step - loss: 0.4848 - val_loss: 0.4783\n",
      "\n",
      "Epoch 00015: val_loss did not improve from 0.47361\n",
      "Epoch 16/1500\n",
      "77/77 [==============================] - 0s 6ms/step - loss: 0.4854 - val_loss: 0.4763\n",
      "\n",
      "Epoch 00016: val_loss did not improve from 0.47361\n",
      "Epoch 17/1500\n",
      "77/77 [==============================] - 0s 5ms/step - loss: 0.4832 - val_loss: 0.4767\n",
      "\n",
      "Epoch 00017: val_loss did not improve from 0.47361\n",
      "Epoch 18/1500\n",
      "77/77 [==============================] - 0s 5ms/step - loss: 0.4820 - val_loss: 0.4775\n",
      "\n",
      "Epoch 00018: val_loss did not improve from 0.47361\n",
      "Epoch 19/1500\n",
      "77/77 [==============================] - 0s 5ms/step - loss: 0.4826 - val_loss: 0.4749\n",
      "\n",
      "Epoch 00019: val_loss did not improve from 0.47361\n",
      "Epoch 20/1500\n",
      "77/77 [==============================] - 0s 5ms/step - loss: 0.4806 - val_loss: 0.4802\n",
      "\n",
      "Epoch 00020: val_loss did not improve from 0.47361\n",
      "Epoch 21/1500\n",
      "77/77 [==============================] - 0s 5ms/step - loss: 0.4814 - val_loss: 0.4738\n",
      "\n",
      "Epoch 00021: val_loss did not improve from 0.47361\n",
      "Epoch 22/1500\n",
      "77/77 [==============================] - 0s 5ms/step - loss: 0.4808 - val_loss: 0.4797\n",
      "\n",
      "Epoch 00022: val_loss did not improve from 0.47361\n",
      "Epoch 23/1500\n",
      "77/77 [==============================] - 0s 5ms/step - loss: 0.4798 - val_loss: 0.4783\n",
      "Restoring model weights from the end of the best epoch.\n",
      "\n",
      "Epoch 00023: val_loss did not improve from 0.47361\n",
      "Epoch 00023: early stopping\n"
     ]
    },
    {
     "data": {
      "text/plain": [
       "<keras.callbacks.History at 0x7feda0314f50>"
      ]
     },
     "execution_count": 16,
     "metadata": {},
     "output_type": "execute_result"
    }
   ],
   "source": [
    "np.random.seed(1291)\n",
    "\n",
    "clf = define_model()\n",
    "\n",
    "\n",
    "es = keras.callbacks.EarlyStopping(\n",
    "    monitor='val_loss',\n",
    "    min_delta=0.00001,\n",
    "    patience=15,\n",
    "    verbose=1,\n",
    "    mode='auto',\n",
    "    restore_best_weights=True)\n",
    "ckp = keras.callbacks.ModelCheckpoint(\n",
    "    filepath=\"best_model_clf.ckp\",\n",
    "    monitor='val_loss',\n",
    "    verbose=1,\n",
    "    save_best_only=True,\n",
    "    save_weights_only=False,\n",
    "    mode='auto',\n",
    "    save_freq='epoch',\n",
    ")\n",
    "\n",
    "clf.fit(X_tr.astype(np.float32), y_tr.astype(np.float32), \n",
    "                batch_size=128,\n",
    "                epochs=1500,\n",
    "                verbose=1,\n",
    "                validation_split=0.2,\n",
    "                # class_weight = class_weights,\n",
    "                callbacks=[es, ckp] \n",
    "               )"
   ]
  },
  {
   "cell_type": "code",
   "execution_count": 17,
   "id": "dfca01a0",
   "metadata": {
    "execution": {
     "iopub.execute_input": "2022-02-19T07:43:13.367591Z",
     "iopub.status.busy": "2022-02-19T07:43:13.366739Z",
     "iopub.status.idle": "2022-02-19T07:43:13.659300Z",
     "shell.execute_reply": "2022-02-19T07:43:13.659706Z",
     "shell.execute_reply.started": "2022-02-19T07:40:41.561691Z"
    },
    "papermill": {
     "duration": 0.399617,
     "end_time": "2022-02-19T07:43:13.659878",
     "exception": false,
     "start_time": "2022-02-19T07:43:13.260261",
     "status": "completed"
    },
    "tags": []
   },
   "outputs": [
    {
     "data": {
      "image/png": "[encoded data removed]",
      "text/plain": [
       "<Figure size 432x288 with 1 Axes>"
      ]
     },
     "metadata": {
      "needs_background": "light"
     },
     "output_type": "display_data"
    }
   ],
   "source": [
    "plt.plot(clf.history.history[\"loss\"], \".:\")\n",
    "plt.plot(clf.history.history[\"val_loss\"], \".:\")\n",
    "plt.yscale(\"log\")"
   ]
  },
  {
   "cell_type": "code",
   "execution_count": 18,
   "id": "0bd659d5",
   "metadata": {
    "execution": {
     "iopub.execute_input": "2022-02-19T07:43:13.856003Z",
     "iopub.status.busy": "2022-02-19T07:43:13.854965Z",
     "iopub.status.idle": "2022-02-19T07:43:16.230491Z",
     "shell.execute_reply": "2022-02-19T07:43:16.229927Z",
     "shell.execute_reply.started": "2022-02-19T07:41:12.591506Z"
    },
    "papermill": {
     "duration": 2.475421,
     "end_time": "2022-02-19T07:43:16.230620",
     "exception": false,
     "start_time": "2022-02-19T07:43:13.755199",
     "status": "completed"
    },
    "tags": []
   },
   "outputs": [],
   "source": [
    "pred_y_tr = (\n",
    "    clf.predict(X_tr)\n",
    "    .argmax(1)\n",
    ")\n",
    "\n",
    "pred_y_ts = (\n",
    "    clf.predict(X_ts)\n",
    "    .argmax(1)\n",
    ")"
   ]
  },
  {
   "cell_type": "code",
   "execution_count": 19,
   "id": "2ae4d2da",
   "metadata": {
    "execution": {
     "iopub.execute_input": "2022-02-19T07:43:16.427037Z",
     "iopub.status.busy": "2022-02-19T07:43:16.426165Z",
     "iopub.status.idle": "2022-02-19T07:43:16.528943Z",
     "shell.execute_reply": "2022-02-19T07:43:16.529353Z",
     "shell.execute_reply.started": "2022-02-19T07:41:14.907088Z"
    },
    "papermill": {
     "duration": 0.203689,
     "end_time": "2022-02-19T07:43:16.529491",
     "exception": false,
     "start_time": "2022-02-19T07:43:16.325802",
     "status": "completed"
    },
    "tags": []
   },
   "outputs": [
    {
     "name": "stdout",
     "output_type": "stream",
     "text": [
      "              precision    recall  f1-score   support\n",
      "\n",
      "           0       0.64      0.85      0.73      6896\n",
      "           1       0.65      0.38      0.48      2647\n",
      "           2       0.65      0.35      0.46      2699\n",
      "\n",
      "    accuracy                           0.64     12242\n",
      "   macro avg       0.65      0.53      0.55     12242\n",
      "weighted avg       0.64      0.64      0.61     12242\n",
      "\n"
     ]
    },
    {
     "data": {
      "text/html": [
       "<style type=\"text/css\">\n",
       "#T_8cef9_row0_col0, #T_8cef9_row1_col1, #T_8cef9_row2_col2 {\n",
       "  background-color: #023858;\n",
       "  color: #f1f1f1;\n",
       "}\n",
       "#T_8cef9_row0_col1 {\n",
       "  background-color: #6da6cd;\n",
       "  color: #f1f1f1;\n",
       "}\n",
       "#T_8cef9_row0_col2 {\n",
       "  background-color: #6fa7ce;\n",
       "  color: #f1f1f1;\n",
       "}\n",
       "#T_8cef9_row1_col0, #T_8cef9_row1_col2, #T_8cef9_row2_col1 {\n",
       "  background-color: #fff7fb;\n",
       "  color: #000000;\n",
       "}\n",
       "#T_8cef9_row2_col0 {\n",
       "  background-color: #fcf4fa;\n",
       "  color: #000000;\n",
       "}\n",
       "</style>\n",
       "<table id=\"T_8cef9_\">\n",
       "  <thead>\n",
       "    <tr>\n",
       "      <th class=\"blank\" >&nbsp;</th>\n",
       "      <th class=\"blank level0\" >&nbsp;</th>\n",
       "      <th class=\"col_heading level0 col0\" colspan=\"3\">pred</th>\n",
       "    </tr>\n",
       "    <tr>\n",
       "      <th class=\"blank\" >&nbsp;</th>\n",
       "      <th class=\"blank level1\" >&nbsp;</th>\n",
       "      <th class=\"col_heading level1 col0\" >0</th>\n",
       "      <th class=\"col_heading level1 col1\" >1</th>\n",
       "      <th class=\"col_heading level1 col2\" >2</th>\n",
       "    </tr>\n",
       "  </thead>\n",
       "  <tbody>\n",
       "    <tr>\n",
       "      <th id=\"T_8cef9_level0_row0\" class=\"row_heading level0 row0\" rowspan=\"3\">true</th>\n",
       "      <th id=\"T_8cef9_level1_row0\" class=\"row_heading level1 row0\" >0</th>\n",
       "      <td id=\"T_8cef9_row0_col0\" class=\"data row0 col0\" >5884</td>\n",
       "      <td id=\"T_8cef9_row0_col1\" class=\"data row0 col1\" >519</td>\n",
       "      <td id=\"T_8cef9_row0_col2\" class=\"data row0 col2\" >493</td>\n",
       "    </tr>\n",
       "    <tr>\n",
       "      <th id=\"T_8cef9_level1_row1\" class=\"row_heading level1 row1\" >1</th>\n",
       "      <td id=\"T_8cef9_row1_col0\" class=\"data row1 col0\" >1633</td>\n",
       "      <td id=\"T_8cef9_row1_col1\" class=\"data row1 col1\" >998</td>\n",
       "      <td id=\"T_8cef9_row1_col2\" class=\"data row1 col2\" >16</td>\n",
       "    </tr>\n",
       "    <tr>\n",
       "      <th id=\"T_8cef9_level1_row2\" class=\"row_heading level1 row2\" >2</th>\n",
       "      <td id=\"T_8cef9_row2_col0\" class=\"data row2 col0\" >1729</td>\n",
       "      <td id=\"T_8cef9_row2_col1\" class=\"data row2 col1\" >16</td>\n",
       "      <td id=\"T_8cef9_row2_col2\" class=\"data row2 col2\" >954</td>\n",
       "    </tr>\n",
       "  </tbody>\n",
       "</table>\n"
      ],
      "text/plain": [
       "<pandas.io.formats.style.Styler at 0x7fed1bf32bd0>"
      ]
     },
     "execution_count": 19,
     "metadata": {},
     "output_type": "execute_result"
    }
   ],
   "source": [
    "cr = classification_report(y_tr.argmax(1), pred_y_tr)\n",
    "print(cr)\n",
    "\n",
    "cm = pd.DataFrame(\n",
    "    confusion_matrix(y_tr.argmax(1), pred_y_tr), \n",
    "    columns=tuple(zip([\"pred\"]*3,[0,1,2])), \n",
    "    index=tuple(zip([\"true\"]*3,[0,1,2]))\n",
    ")\n",
    "cm.style.background_gradient()"
   ]
  },
  {
   "cell_type": "code",
   "execution_count": 20,
   "id": "adc01d28",
   "metadata": {
    "execution": {
     "iopub.execute_input": "2022-02-19T07:43:16.729707Z",
     "iopub.status.busy": "2022-02-19T07:43:16.728938Z",
     "iopub.status.idle": "2022-02-19T07:43:16.783688Z",
     "shell.execute_reply": "2022-02-19T07:43:16.784125Z",
     "shell.execute_reply.started": "2022-02-19T07:41:23.495528Z"
    },
    "papermill": {
     "duration": 0.15732,
     "end_time": "2022-02-19T07:43:16.784262",
     "exception": false,
     "start_time": "2022-02-19T07:43:16.626942",
     "status": "completed"
    },
    "tags": []
   },
   "outputs": [
    {
     "name": "stdout",
     "output_type": "stream",
     "text": [
      "              precision    recall  f1-score   support\n",
      "\n",
      "           0       0.67      0.83      0.74      7277\n",
      "           1       0.61      0.39      0.48      2581\n",
      "           2       0.58      0.37      0.45      2383\n",
      "\n",
      "    accuracy                           0.65     12241\n",
      "   macro avg       0.62      0.53      0.56     12241\n",
      "weighted avg       0.64      0.65      0.63     12241\n",
      "\n"
     ]
    },
    {
     "data": {
      "text/html": [
       "<style type=\"text/css\">\n",
       "#T_dcc0f_row0_col0, #T_dcc0f_row1_col1, #T_dcc0f_row2_col2 {\n",
       "  background-color: #023858;\n",
       "  color: #f1f1f1;\n",
       "}\n",
       "#T_dcc0f_row0_col1 {\n",
       "  background-color: #4094c3;\n",
       "  color: #f1f1f1;\n",
       "}\n",
       "#T_dcc0f_row0_col2 {\n",
       "  background-color: #197db7;\n",
       "  color: #f1f1f1;\n",
       "}\n",
       "#T_dcc0f_row1_col0 {\n",
       "  background-color: #fdf5fa;\n",
       "  color: #000000;\n",
       "}\n",
       "#T_dcc0f_row1_col2, #T_dcc0f_row2_col0, #T_dcc0f_row2_col1 {\n",
       "  background-color: #fff7fb;\n",
       "  color: #000000;\n",
       "}\n",
       "</style>\n",
       "<table id=\"T_dcc0f_\">\n",
       "  <thead>\n",
       "    <tr>\n",
       "      <th class=\"blank\" >&nbsp;</th>\n",
       "      <th class=\"blank level0\" >&nbsp;</th>\n",
       "      <th class=\"col_heading level0 col0\" colspan=\"3\">pred</th>\n",
       "    </tr>\n",
       "    <tr>\n",
       "      <th class=\"blank\" >&nbsp;</th>\n",
       "      <th class=\"blank level1\" >&nbsp;</th>\n",
       "      <th class=\"col_heading level1 col0\" >0</th>\n",
       "      <th class=\"col_heading level1 col1\" >1</th>\n",
       "      <th class=\"col_heading level1 col2\" >2</th>\n",
       "    </tr>\n",
       "  </thead>\n",
       "  <tbody>\n",
       "    <tr>\n",
       "      <th id=\"T_dcc0f_level0_row0\" class=\"row_heading level0 row0\" rowspan=\"3\">true</th>\n",
       "      <th id=\"T_dcc0f_level1_row0\" class=\"row_heading level1 row0\" >0</th>\n",
       "      <td id=\"T_dcc0f_row0_col0\" class=\"data row0 col0\" >6040</td>\n",
       "      <td id=\"T_dcc0f_row0_col1\" class=\"data row0 col1\" >617</td>\n",
       "      <td id=\"T_dcc0f_row0_col2\" class=\"data row0 col2\" >620</td>\n",
       "    </tr>\n",
       "    <tr>\n",
       "      <th id=\"T_dcc0f_level1_row1\" class=\"row_heading level1 row1\" >1</th>\n",
       "      <td id=\"T_dcc0f_row1_col0\" class=\"data row1 col0\" >1545</td>\n",
       "      <td id=\"T_dcc0f_row1_col1\" class=\"data row1 col1\" >1010</td>\n",
       "      <td id=\"T_dcc0f_row1_col2\" class=\"data row1 col2\" >26</td>\n",
       "    </tr>\n",
       "    <tr>\n",
       "      <th id=\"T_dcc0f_level1_row2\" class=\"row_heading level1 row2\" >2</th>\n",
       "      <td id=\"T_dcc0f_row2_col0\" class=\"data row2 col0\" >1486</td>\n",
       "      <td id=\"T_dcc0f_row2_col1\" class=\"data row2 col1\" >19</td>\n",
       "      <td id=\"T_dcc0f_row2_col2\" class=\"data row2 col2\" >878</td>\n",
       "    </tr>\n",
       "  </tbody>\n",
       "</table>\n"
      ],
      "text/plain": [
       "<pandas.io.formats.style.Styler at 0x7fe91d79c210>"
      ]
     },
     "execution_count": 20,
     "metadata": {},
     "output_type": "execute_result"
    }
   ],
   "source": [
    "cr = classification_report(y_ts.argmax(1), pred_y_ts)\n",
    "print(cr)\n",
    "\n",
    "cm = pd.DataFrame(\n",
    "    confusion_matrix(y_ts.argmax(1), pred_y_ts),\n",
    "    columns=tuple(zip([\"pred\"]*3,range(3))), \n",
    "    index=tuple(zip([\"true\"]*3,range(3)))\n",
    ")\n",
    "cm.style.background_gradient()"
   ]
  },
  {
   "cell_type": "markdown",
   "id": "3e8492b9",
   "metadata": {
    "papermill": {
     "duration": 0.09766,
     "end_time": "2022-02-19T07:43:16.978602",
     "exception": false,
     "start_time": "2022-02-19T07:43:16.880942",
     "status": "completed"
    },
    "tags": []
   },
   "source": [
    "# Visualize"
   ]
  },
  {
   "cell_type": "markdown",
   "id": "39606f5b",
   "metadata": {
    "papermill": {
     "duration": 0.097047,
     "end_time": "2022-02-19T07:43:17.173865",
     "exception": false,
     "start_time": "2022-02-19T07:43:17.076818",
     "status": "completed"
    },
    "tags": []
   },
   "source": [
    "- Green markers for True signal\n",
    "- Yellow markers for Pred signal"
   ]
  },
  {
   "cell_type": "markdown",
   "id": "a134f635",
   "metadata": {
    "papermill": {
     "duration": 0.096579,
     "end_time": "2022-02-19T07:43:17.367864",
     "exception": false,
     "start_time": "2022-02-19T07:43:17.271285",
     "status": "completed"
    },
    "tags": []
   },
   "source": [
    "# Train Series"
   ]
  },
  {
   "cell_type": "code",
   "execution_count": 21,
   "id": "32269161",
   "metadata": {
    "_kg_hide-input": true,
    "execution": {
     "iopub.execute_input": "2022-02-19T07:43:17.574454Z",
     "iopub.status.busy": "2022-02-19T07:43:17.573885Z",
     "iopub.status.idle": "2022-02-19T07:43:17.968193Z",
     "shell.execute_reply": "2022-02-19T07:43:17.967460Z",
     "shell.execute_reply.started": "2022-02-19T07:41:39.290580Z"
    },
    "jupyter": {
     "source_hidden": true
    },
    "papermill": {
     "duration": 0.504444,
     "end_time": "2022-02-19T07:43:17.968403",
     "exception": false,
     "start_time": "2022-02-19T07:43:17.463959",
     "status": "completed"
    },
    "tags": []
   },
   "outputs": [
    {
     "data": {
      "image/png": "[encoded data removed]",
      "text/plain": [
       "<Figure size 2000x300 with 2 Axes>"
      ]
     },
     "metadata": {},
     "output_type": "display_data"
    },
    {
     "data": {
      "image/png": "[encoded data removed]",
      "text/plain": [
       "<Figure size 2000x300 with 2 Axes>"
      ]
     },
     "metadata": {},
     "output_type": "display_data"
    }
   ],
   "source": [
    "cols = [\"open\",\"high\",\"low\",\"close\"]\n",
    "\n",
    "win = 180\n",
    "\n",
    "np.random.shuffle(train_idx)\n",
    "\n",
    "for i in train_idx:\n",
    "    data = data_df[cols].iloc[i:(i+win)]\n",
    "    h_buy_sig = data[\"low\"].copy() - 10\n",
    "    h_buy_sig[data_df[\"h_labels\"].iloc[i:(i+win)]!=1] = np.nan\n",
    "    # print(h_buy_sig)\n",
    "    \n",
    "    h_buy_pred = pred_y_tr[i:(i+win)].copy().astype(np.float32)\n",
    "    h_buy_pred[h_buy_pred==1] = data[\"low\"].iloc[h_buy_pred==1] - 20\n",
    "    h_buy_pred[h_buy_pred==0] = np.nan\n",
    "    h_buy_pred[h_buy_pred==2] = np.nan\n",
    "    \n",
    "    \n",
    "    adp = [\n",
    "        mplf.make_addplot(\n",
    "            h_buy_sig,\n",
    "            scatter=True,\n",
    "            markersize=50, marker=r'$\\Uparrow$', color=\"g\"\n",
    "        ),\n",
    "        mplf.make_addplot(\n",
    "            h_buy_pred,\n",
    "            scatter=True,\n",
    "            markersize=50, marker=r'$\\Uparrow$', color=\"y\"\n",
    "        )\n",
    "    ]\n",
    "    \n",
    "    mplf.plot(\n",
    "        data,\n",
    "        title=\"label:1, Buy\",\n",
    "        type=\"candle\",\n",
    "        figsize=(20,3),\n",
    "        addplot=adp,\n",
    "        axisoff=True\n",
    "    )\n",
    "    plt.show()\n",
    "    \n",
    "    data = data_df[cols].iloc[i:(i+win)]\n",
    "    h_buy_sig = data[\"low\"].copy() + 20\n",
    "    h_buy_sig[data_df[\"h_labels\"].iloc[i:(i+win)]!=2] = np.nan\n",
    "    # print(h_buy_sig)\n",
    "    \n",
    "    h_buy_pred = pred_y_tr[i:(i+win)].copy().astype(np.float32)\n",
    "    h_buy_pred[h_buy_pred==2] = data[\"low\"].iloc[h_buy_pred==2] + 30\n",
    "    h_buy_pred[h_buy_pred==0] = np.nan\n",
    "    h_buy_pred[h_buy_pred==1] = np.nan\n",
    "    \n",
    "    \n",
    "    adp = [\n",
    "        mplf.make_addplot(\n",
    "            h_buy_sig,\n",
    "            scatter=True,\n",
    "            markersize=50, marker=r'$\\Downarrow$', color=\"g\"\n",
    "        ),\n",
    "        mplf.make_addplot(\n",
    "            h_buy_pred,\n",
    "            scatter=True,\n",
    "            markersize=50, marker=r'$\\Downarrow$', color=\"y\"\n",
    "        )\n",
    "    ]\n",
    "    \n",
    "    mplf.plot(\n",
    "        data,\n",
    "        title=\"label:2, Sell\",\n",
    "        type=\"candle\",\n",
    "        figsize=(20,3),\n",
    "        addplot=adp,\n",
    "        axisoff=True\n",
    "    )\n",
    "    plt.show()\n",
    "    \n",
    "    \n",
    "    break"
   ]
  },
  {
   "cell_type": "markdown",
   "id": "31f757e3",
   "metadata": {
    "execution": {
     "iopub.execute_input": "2021-09-11T10:14:31.273229Z",
     "iopub.status.busy": "2021-09-11T10:14:31.272457Z",
     "iopub.status.idle": "2021-09-11T10:14:31.276639Z",
     "shell.execute_reply": "2021-09-11T10:14:31.275933Z",
     "shell.execute_reply.started": "2021-09-11T10:14:31.27319Z"
    },
    "papermill": {
     "duration": 0.098657,
     "end_time": "2022-02-19T07:43:18.194798",
     "exception": false,
     "start_time": "2022-02-19T07:43:18.096141",
     "status": "completed"
    },
    "tags": []
   },
   "source": [
    "# Test Series"
   ]
  },
  {
   "cell_type": "code",
   "execution_count": 22,
   "id": "6c0fef31",
   "metadata": {
    "execution": {
     "iopub.execute_input": "2022-02-19T07:43:18.399806Z",
     "iopub.status.busy": "2022-02-19T07:43:18.396818Z",
     "iopub.status.idle": "2022-02-19T07:43:18.402322Z",
     "shell.execute_reply": "2022-02-19T07:43:18.402719Z",
     "shell.execute_reply.started": "2022-02-19T07:41:42.103584Z"
    },
    "papermill": {
     "duration": 0.108382,
     "end_time": "2022-02-19T07:43:18.402876",
     "exception": false,
     "start_time": "2022-02-19T07:43:18.294494",
     "status": "completed"
    },
    "tags": []
   },
   "outputs": [
    {
     "data": {
      "text/plain": [
       "12242"
      ]
     },
     "execution_count": 22,
     "metadata": {},
     "output_type": "execute_result"
    }
   ],
   "source": [
    "test_start_idx = test_idx[0]\n",
    "test_start_idx"
   ]
  },
  {
   "cell_type": "code",
   "execution_count": 23,
   "id": "e5cffaa3",
   "metadata": {
    "_kg_hide-input": true,
    "execution": {
     "iopub.execute_input": "2022-02-19T07:43:18.614224Z",
     "iopub.status.busy": "2022-02-19T07:43:18.613430Z",
     "iopub.status.idle": "2022-02-19T07:43:18.927967Z",
     "shell.execute_reply": "2022-02-19T07:43:18.928680Z",
     "shell.execute_reply.started": "2022-02-19T07:41:49.088937Z"
    },
    "jupyter": {
     "source_hidden": true
    },
    "papermill": {
     "duration": 0.427039,
     "end_time": "2022-02-19T07:43:18.928929",
     "exception": false,
     "start_time": "2022-02-19T07:43:18.501890",
     "status": "completed"
    },
    "tags": []
   },
   "outputs": [
    {
     "data": {
      "image/png": "[encoded data removed]",
      "text/plain": [
       "<Figure size 2000x300 with 2 Axes>"
      ]
     },
     "metadata": {},
     "output_type": "display_data"
    },
    {
     "data": {
      "image/png": "[encoded data removed]",
      "text/plain": [
       "<Figure size 2000x300 with 2 Axes>"
      ]
     },
     "metadata": {},
     "output_type": "display_data"
    }
   ],
   "source": [
    "cols = [\"open\",\"high\",\"low\",\"close\"]\n",
    "\n",
    "win = 180\n",
    "\n",
    "np.random.shuffle(test_idx)\n",
    "\n",
    "for i in test_idx:\n",
    "    data = data_df[cols].iloc[i:(i+win)]\n",
    "    h_buy_sig = data[\"low\"].copy() - 10\n",
    "    h_buy_sig[data_df[\"h_labels\"].iloc[i:(i+win)]!=1] = np.nan\n",
    "    # print(h_buy_sig)\n",
    "    \n",
    "    h_buy_pred = pred_y_tr[(i-test_start_idx):((i-test_start_idx)+win)].copy().astype(np.float32)\n",
    "    h_buy_pred[h_buy_pred==1] = data[\"low\"].iloc[h_buy_pred==1] - 20\n",
    "    h_buy_pred[h_buy_pred==0] = np.nan\n",
    "    h_buy_pred[h_buy_pred==2] = np.nan\n",
    "    \n",
    "    \n",
    "    \n",
    "    adp = [\n",
    "        mplf.make_addplot(\n",
    "            h_buy_sig,\n",
    "            scatter=True,\n",
    "            markersize=50, marker=r'$\\Uparrow$', color=\"g\"\n",
    "        ),\n",
    "        mplf.make_addplot(\n",
    "            h_buy_pred,\n",
    "            scatter=True,\n",
    "            markersize=50, marker=r'$\\Uparrow$', color=\"y\"\n",
    "        )\n",
    "    ]\n",
    "    \n",
    "    mplf.plot(\n",
    "        data,\n",
    "        title=\"label:1, Buy\",\n",
    "        type=\"candle\",\n",
    "        figsize=(20,3),\n",
    "        addplot=adp,\n",
    "        axisoff=True\n",
    "    )\n",
    "    \n",
    "    plt.show()\n",
    "    \n",
    "    data = data_df[cols].iloc[i:(i+win)]\n",
    "    h_buy_sig = data[\"low\"].copy() + 20\n",
    "    h_buy_sig[data_df[\"h_labels\"].iloc[i:(i+win)]!=2] = np.nan\n",
    "    # print(h_buy_sig)\n",
    "    \n",
    "    h_buy_pred = pred_y_tr[(i-test_start_idx):((i-test_start_idx)+win)].copy().astype(np.float32)\n",
    "    h_buy_pred[h_buy_pred==2] = data[\"low\"].iloc[h_buy_pred==2] + 30\n",
    "    h_buy_pred[h_buy_pred==0] = np.nan\n",
    "    h_buy_pred[h_buy_pred==1] = np.nan\n",
    "    \n",
    "    \n",
    "    \n",
    "    adp = [\n",
    "        mplf.make_addplot(\n",
    "            h_buy_sig,\n",
    "            scatter=True,\n",
    "            markersize=50, marker=r'$\\Downarrow$', color=\"g\"\n",
    "        ),\n",
    "        mplf.make_addplot(\n",
    "            h_buy_pred,\n",
    "            scatter=True,\n",
    "            markersize=50, marker=r'$\\Downarrow$', color=\"y\"\n",
    "        )\n",
    "    ]\n",
    "    \n",
    "    mplf.plot(\n",
    "        data,\n",
    "        title=\"label:2, Sell\",\n",
    "        type=\"candle\",\n",
    "        figsize=(20,3),\n",
    "        addplot=adp,\n",
    "        axisoff=True\n",
    "    )\n",
    "    \n",
    "    plt.show()\n",
    "    break"
   ]
  },
  {
   "cell_type": "code",
   "execution_count": null,
   "id": "91ab1193",
   "metadata": {
    "papermill": {
     "duration": 0.109207,
     "end_time": "2022-02-19T07:43:19.168130",
     "exception": false,
     "start_time": "2022-02-19T07:43:19.058923",
     "status": "completed"
    },
    "tags": []
   },
   "outputs": [],
   "source": []
  }
 ],
 "metadata": {
  "kernelspec": {
   "display_name": "Python 3",
   "language": "python",
   "name": "python3"
  },
  "language_info": {
   "codemirror_mode": {
    "name": "ipython",
    "version": 3
   },
   "file_extension": ".py",
   "mimetype": "text/x-python",
   "name": "python",
   "nbconvert_exporter": "python",
   "pygments_lexer": "ipython3",
   "version": "3.7.12"
  },
  "papermill": {
   "default_parameters": {},
   "duration": 67.353652,
   "end_time": "2022-02-19T07:43:22.240906",
   "environment_variables": {},
   "exception": null,
   "input_path": "__notebook__.ipynb",
   "output_path": "__notebook__.ipynb",
   "parameters": {},
   "start_time": "2022-02-19T07:42:14.887254",
   "version": "2.3.3"
  }
 },
 "nbformat": 4,
 "nbformat_minor": 5
}
