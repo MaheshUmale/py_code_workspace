{
 "cells": [
  {
   "cell_type": "code",
   "execution_count": null,
   "id": "dc45a326",
   "metadata": {},
   "outputs": [],
   "source": [
    "from openalgo import api\n",
    "\n",
    "\n",
    "# Your OpenAlgo API key\n",
    "OPENALGO_API_KEY= ' '\n",
    "\n",
    "# OpenAlgo API host URL (default localhost port 5000)\n",
    "OPENALGO_API_HOST='http://127.0.0.1:5000'\n",
    "\n",
    "# Replace 'your_api_key_here' with your actual API key\n",
    "# Specify the host URL with your hosted domain or ngrok domain. \n",
    "# If running locally in windows then use the default host value. \n",
    "client = api(api_key=OPENALGO_API_KEY, host= OPENALGO_API_HOST)\n"
   ]
  },
  {
   "cell_type": "code",
   "execution_count": 2,
   "id": "10573fff",
   "metadata": {},
   "outputs": [
    {
     "data": {
      "text/plain": [
       "'1.0.11'"
      ]
     },
     "execution_count": 2,
     "metadata": {},
     "output_type": "execute_result"
    }
   ],
   "source": [
    "import openalgo \n",
    "openalgo.__version__"
   ]
  },
  {
   "cell_type": "code",
   "execution_count": 4,
   "id": "e90e6aa4",
   "metadata": {},
   "outputs": [
    {
     "name": "stdout",
     "output_type": "stream",
     "text": [
      "{'mode': 'analyze', 'orderid': '25041700002', 'status': 'success'}\n"
     ]
    }
   ],
   "source": [
    "response = client.placeorder(\n",
    "    strategy=\"Python\",\n",
    "    symbol=\"NHPC\",\n",
    "    action=\"SELL\",\n",
    "    exchange=\"NSE\",\n",
    "    price_type=\"MARKET\",\n",
    "    product=\"MIS\",\n",
    "    quantity=1\n",
    ")\n",
    "print(response)\n"
   ]
  },
  {
   "cell_type": "code",
   "execution_count": 5,
   "id": "d8572912",
   "metadata": {},
   "outputs": [
    {
     "name": "stdout",
     "output_type": "stream",
     "text": [
      "{'data': {'action': 'BUY', 'exchange': 'NSE', 'order_status': 'COMPLETE', 'orderid': '250408000989443', 'price': 100.0, 'pricetype': 'MARKET', 'product': 'MIS', 'quantity': 10, 'symbol': 'SBIN', 'timestamp': '09-Dec-2024 10:00:00', 'trigger_price': 0}, 'mode': 'analyze', 'status': 'success'}\n"
     ]
    }
   ],
   "source": [
    "response = client.orderstatus(\n",
    "    order_id=\"250408000989443\",\n",
    "    strategy=\"Python\"\n",
    "    )\n",
    "print(response)"
   ]
  },
  {
   "cell_type": "code",
   "execution_count": 6,
   "id": "e2d6ba12",
   "metadata": {},
   "outputs": [
    {
     "name": "stdout",
     "output_type": "stream",
     "text": [
      "{'data': {'asks': [{'price': 781.6, 'quantity': 1123}, {'price': 781.65, 'quantity': 100}, {'price': 781.7, 'quantity': 401}, {'price': 781.75, 'quantity': 278}, {'price': 781.8, 'quantity': 1096}], 'bids': [{'price': 781.5, 'quantity': 486}, {'price': 781.45, 'quantity': 457}, {'price': 781.4, 'quantity': 416}, {'price': 781.35, 'quantity': 1178}, {'price': 781.3, 'quantity': 949}], 'high': 781.75, 'low': 767.15, 'ltp': 781.6, 'ltq': 0, 'oi': 0.0, 'open': 772.0, 'prev_close': 781.6, 'totalbuyqty': 653756.0, 'totalsellqty': 836360.0, 'volume': 9650946}, 'status': 'success'}\n"
     ]
    }
   ],
   "source": [
    "response = client.depth(symbol=\"SBIN\", exchange=\"NSE\")\n",
    "print(response)"
   ]
  }
 ],
 "metadata": {
  "kernelspec": {
   "display_name": ".venv",
   "language": "python",
   "name": "python3"
  },
  "language_info": {
   "codemirror_mode": {
    "name": "ipython",
    "version": 3
   },
   "file_extension": ".py",
   "mimetype": "text/x-python",
   "name": "python",
   "nbconvert_exporter": "python",
   "pygments_lexer": "ipython3",
   "version": "3.12.4"
  }
 },
 "nbformat": 4,
 "nbformat_minor": 5
}
