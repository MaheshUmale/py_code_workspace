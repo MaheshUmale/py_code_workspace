{
 "cells": [
  {
   "cell_type": "code",
   "execution_count": null,
   "id": "1ccd0c99",
   "metadata": {},
   "outputs": [],
   "source": [
    "from datetime import datetime, time\n",
    "from time import sleep\n",
    "import requests \n",
    "import json\n",
    "import pandas as pd\n",
    "from pymongo import MongoClient\n",
    "\n",
    "def getBaseCookies(url):\n",
    "    \n",
    "    headers = {\n",
    "        'user-agent': 'Mozilla/5.0 (Windows NT 10.0; Win64; x64) AppleWebKit/537.36 (KHTML, '\n",
    "                      'like Gecko) '\n",
    "                      'Chrome/80.0.3987.149 Safari/537.36',\n",
    "        'accept-language': 'en,gu;q=0.9,hi;q=0.8', 'accept-encoding': 'gzip, deflate, br',\n",
    "        'accept': '*/*', 'referer': url}\n",
    "    session = requests.Session()\n",
    "    response = session.get(url, headers=headers)\n",
    "    cookies = dict(response.cookies)\n",
    "    return session, cookies\n",
    "\n",
    "\n",
    "def getReferalCookies(url,cookies):\n",
    "    \n",
    "    headers = {\n",
    "        'user-agent': 'Mozilla/5.0 (Windows NT 10.0; Win64; x64) AppleWebKit/537.36 (KHTML, '\n",
    "                      'like Gecko) '\n",
    "                      'Chrome/80.0.3987.149 Safari/537.36',\n",
    "        'accept-language': 'en,gu;q=0.9,hi;q=0.8', 'accept-encoding': 'gzip, deflate, br',\n",
    "        'accept': '*/*', 'referer': url}\n",
    "    session = requests.Session()\n",
    "    response = session.get(url, headers=headers,cookies=cookies)\n",
    "    cookies = dict(response.cookies)\n",
    "    return session, cookies\n"
   ]
  },
  {
   "cell_type": "code",
   "execution_count": null,
   "id": "eee36332",
   "metadata": {},
   "outputs": [],
   "source": [
    "\n",
    "NiftyOptionChainURL = \"https://www.nseindia.com/api/option-chain-indices?symbol=NIFTY\"\n",
    "\n",
    "OptionChainURL = \"https://www.nseindia.com/api/option-chain-indices?symbol=NIFTY\"\n",
    "refererURL = \"https://www.nseindia.com/option-chain\"\n",
    "baseurl = \"https://www.nseindia.com/\"\n",
    "session, cookies = getBaseCookies(baseurl)\n",
    "session, cookies = getReferalCookies(refererURL,cookies) \n"
   ]
  },
  {
   "cell_type": "code",
   "execution_count": null,
   "id": "f875e768",
   "metadata": {},
   "outputs": [],
   "source": [
    "\n",
    "optionChainHeader = {'user-agent': 'Mozilla/5.0 (Windows NT 10.0; Win64; x64) AppleWebKit/537.36 (KHTML, '\n",
    "                'like Gecko) '\n",
    "                'Chrome/80.0.3987.149 Safari/537.36',\n",
    "'accept-language': 'en,gu;q=0.9,hi;q=0.8', 'accept-encoding': 'gzip, deflate, br',\n",
    "'Content-Type':'application/json',\n",
    "'referer':'https://www.nseindia.com/market-data/live-equity-market'}\n",
    "\n",
    "#fut = session.get(url1, headers=headers).json()\n",
    "response = session.get(OptionChainURL, headers=optionChainHeader, timeout=5, cookies=cookies)\n",
    "print(\"STATUS CODE ---------------------------- \")\n",
    "print(response.status_code) \n",
    "#txt =response.content # process_brotli_response(response.content)\n"
   ]
  },
  {
   "cell_type": "code",
   "execution_count": null,
   "id": "fbe229fc",
   "metadata": {},
   "outputs": [],
   "source": [
    "OptionChainDataDF =pd.json_normalize(json.loads(response.content.decode('utf-8')))\n",
    "data = (OptionChainDataDF['records.data'])\n",
    "# Add a new column with the current timestamp   \n"
   ]
  },
  {
   "cell_type": "code",
   "execution_count": null,
   "id": "21b475ee",
   "metadata": {},
   "outputs": [],
   "source": [
    "newdf = data[0]"
   ]
  },
  {
   "cell_type": "code",
   "execution_count": null,
   "id": "576155f2",
   "metadata": {},
   "outputs": [],
   "source": [
    "for row in newdf:  \n",
    "    row['timestamp'] = datetime.now().strftime(\"%Y-%m-%d %H:%M:%S\")\n",
    "\n",
    "\n",
    "for row in newdf:\n",
    "    print(row['timestamp'])  \n"
   ]
  },
  {
   "cell_type": "code",
   "execution_count": null,
   "id": "811e3f38",
   "metadata": {},
   "outputs": [],
   "source": [
    "for row in data:\n",
    "    row['current_time'] = datetime.now().strftime(\"%Y-%m-%d %H:%M:%S\")\n",
    "# Convert the data to a JSON string with indentation for readability        \n",
    "\n",
    "#print(TotalMarketData)\n",
    "\n",
    "OptionChainData = pd.json_normalize( json.dumps(data, indent=4))\n",
    "\n",
    " "
   ]
  },
  {
   "cell_type": "code",
   "execution_count": null,
   "id": "3ccc378c",
   "metadata": {},
   "outputs": [],
   "source": [
    "\n",
    "BNoptionChainURL = \"https://www.nseindia.com/api/option-chain-indices?symbol=BANKNIFTY\"\n",
    "NiftyOptionChainURL = \"https://www.nseindia.com/api/option-chain-indices?symbol=NIFTY\"\n",
    "df = getOptionChainData(BNoptionChainURL)"
   ]
  },
  {
   "cell_type": "code",
   "execution_count": null,
   "id": "c6966006",
   "metadata": {},
   "outputs": [],
   "source": [
    "\n",
    "if __name__ == '__main__':\n",
    "    # Get the current time\n",
    "    current_time = datetime.now().time()\n",
    "    # Define the start and end times for the loop\n",
    "    start_time = time(9, 15)  # 9:15 AM\n",
    "    end_time = time(15, 30)   # 3:30 PM\n",
    "    \n",
    "    BNoptionChainURL = \"https://www.nseindia.com/api/option-chain-indices?symbol=BANKNIFTY\"\n",
    "    NiftyOptionChainURL = \"https://www.nseindia.com/api/option-chain-indices?symbol=NIFTY\"\n",
    "\n",
    "    # Loop until the current time is outside the specified range\n",
    "    while start_time <= current_time <= end_time:\n",
    "        df = getOptionChainData(BNoptionChainURL)\n",
    "        print(\"Data fetched successfully\")\n",
    "        client = MongoClient(\"mongodb://localhost:27017/\")\n",
    "        db = client['OptionChainData']\n",
    "        collection = db['BNOptionChain'] \n",
    "        collection.insert_many(df)\n",
    "        print(\"Data inserted into MongoDB BNOptionChain\")\n",
    "\n",
    "        df = getOptionChainData(NiftyOptionChainURL)\n",
    "        print(\"Data fetched successfully\")\n",
    "        client = MongoClient(\"mongodb://localhost:27017/\")\n",
    "        db = client['OptionChainData']\n",
    "        collection = db['NiftyOptionChain'] \n",
    "        collection.insert_many(df)\n",
    "        print(\"Data inserted into MongoDB BNOptionChain\")\n",
    "\n",
    "        #df['timestamp'] = datetime.now()\n",
    "        sleep(60)  # Wait for 20 seconds before the next request"
   ]
  },
  {
   "cell_type": "code",
   "execution_count": 7,
   "id": "3a7a8beb",
   "metadata": {},
   "outputs": [
    {
     "ename": "InvalidStatusCode",
     "evalue": "server rejected WebSocket connection: HTTP 403",
     "output_type": "error",
     "traceback": [
      "\u001b[1;31m---------------------------------------------------------------------------\u001b[0m",
      "\u001b[1;31mInvalidStatusCode\u001b[0m                         Traceback (most recent call last)",
      "Cell \u001b[1;32mIn[7], line 31\u001b[0m\n\u001b[0;32m     28\u001b[0m nest_asyncio\u001b[38;5;241m.\u001b[39mapply()\n\u001b[0;32m     30\u001b[0m \u001b[38;5;28;01mif\u001b[39;00m \u001b[38;5;18m__name__\u001b[39m \u001b[38;5;241m==\u001b[39m \u001b[38;5;124m\"\u001b[39m\u001b[38;5;124m__main__\u001b[39m\u001b[38;5;124m\"\u001b[39m:\n\u001b[1;32m---> 31\u001b[0m     \u001b[43masyncio\u001b[49m\u001b[38;5;241;43m.\u001b[39;49m\u001b[43mrun\u001b[49m\u001b[43m(\u001b[49m\u001b[43mmain\u001b[49m\u001b[43m(\u001b[49m\u001b[43m)\u001b[49m\u001b[43m)\u001b[49m\n",
      "File \u001b[1;32md:\\py_code_workspace\\.venv\\Lib\\site-packages\\nest_asyncio.py:30\u001b[0m, in \u001b[0;36m_patch_asyncio.<locals>.run\u001b[1;34m(main, debug)\u001b[0m\n\u001b[0;32m     28\u001b[0m task \u001b[38;5;241m=\u001b[39m asyncio\u001b[38;5;241m.\u001b[39mensure_future(main)\n\u001b[0;32m     29\u001b[0m \u001b[38;5;28;01mtry\u001b[39;00m:\n\u001b[1;32m---> 30\u001b[0m     \u001b[38;5;28;01mreturn\u001b[39;00m \u001b[43mloop\u001b[49m\u001b[38;5;241;43m.\u001b[39;49m\u001b[43mrun_until_complete\u001b[49m\u001b[43m(\u001b[49m\u001b[43mtask\u001b[49m\u001b[43m)\u001b[49m\n\u001b[0;32m     31\u001b[0m \u001b[38;5;28;01mfinally\u001b[39;00m:\n\u001b[0;32m     32\u001b[0m     \u001b[38;5;28;01mif\u001b[39;00m \u001b[38;5;129;01mnot\u001b[39;00m task\u001b[38;5;241m.\u001b[39mdone():\n",
      "File \u001b[1;32md:\\py_code_workspace\\.venv\\Lib\\site-packages\\nest_asyncio.py:98\u001b[0m, in \u001b[0;36m_patch_loop.<locals>.run_until_complete\u001b[1;34m(self, future)\u001b[0m\n\u001b[0;32m     95\u001b[0m \u001b[38;5;28;01mif\u001b[39;00m \u001b[38;5;129;01mnot\u001b[39;00m f\u001b[38;5;241m.\u001b[39mdone():\n\u001b[0;32m     96\u001b[0m     \u001b[38;5;28;01mraise\u001b[39;00m \u001b[38;5;167;01mRuntimeError\u001b[39;00m(\n\u001b[0;32m     97\u001b[0m         \u001b[38;5;124m'\u001b[39m\u001b[38;5;124mEvent loop stopped before Future completed.\u001b[39m\u001b[38;5;124m'\u001b[39m)\n\u001b[1;32m---> 98\u001b[0m \u001b[38;5;28;01mreturn\u001b[39;00m \u001b[43mf\u001b[49m\u001b[38;5;241;43m.\u001b[39;49m\u001b[43mresult\u001b[49m\u001b[43m(\u001b[49m\u001b[43m)\u001b[49m\n",
      "File \u001b[1;32m~\\AppData\\Local\\Programs\\Python\\Python312\\Lib\\asyncio\\futures.py:203\u001b[0m, in \u001b[0;36mFuture.result\u001b[1;34m(self)\u001b[0m\n\u001b[0;32m    201\u001b[0m \u001b[38;5;28mself\u001b[39m\u001b[38;5;241m.\u001b[39m__log_traceback \u001b[38;5;241m=\u001b[39m \u001b[38;5;28;01mFalse\u001b[39;00m\n\u001b[0;32m    202\u001b[0m \u001b[38;5;28;01mif\u001b[39;00m \u001b[38;5;28mself\u001b[39m\u001b[38;5;241m.\u001b[39m_exception \u001b[38;5;129;01mis\u001b[39;00m \u001b[38;5;129;01mnot\u001b[39;00m \u001b[38;5;28;01mNone\u001b[39;00m:\n\u001b[1;32m--> 203\u001b[0m     \u001b[38;5;28;01mraise\u001b[39;00m \u001b[38;5;28mself\u001b[39m\u001b[38;5;241m.\u001b[39m_exception\u001b[38;5;241m.\u001b[39mwith_traceback(\u001b[38;5;28mself\u001b[39m\u001b[38;5;241m.\u001b[39m_exception_tb)\n\u001b[0;32m    204\u001b[0m \u001b[38;5;28;01mreturn\u001b[39;00m \u001b[38;5;28mself\u001b[39m\u001b[38;5;241m.\u001b[39m_result\n",
      "File \u001b[1;32m~\\AppData\\Local\\Programs\\Python\\Python312\\Lib\\asyncio\\tasks.py:314\u001b[0m, in \u001b[0;36mTask.__step_run_and_handle_result\u001b[1;34m(***failed resolving arguments***)\u001b[0m\n\u001b[0;32m    310\u001b[0m \u001b[38;5;28;01mtry\u001b[39;00m:\n\u001b[0;32m    311\u001b[0m     \u001b[38;5;28;01mif\u001b[39;00m exc \u001b[38;5;129;01mis\u001b[39;00m \u001b[38;5;28;01mNone\u001b[39;00m:\n\u001b[0;32m    312\u001b[0m         \u001b[38;5;66;03m# We use the `send` method directly, because coroutines\u001b[39;00m\n\u001b[0;32m    313\u001b[0m         \u001b[38;5;66;03m# don't have `__iter__` and `__next__` methods.\u001b[39;00m\n\u001b[1;32m--> 314\u001b[0m         result \u001b[38;5;241m=\u001b[39m \u001b[43mcoro\u001b[49m\u001b[38;5;241;43m.\u001b[39;49m\u001b[43msend\u001b[49m\u001b[43m(\u001b[49m\u001b[38;5;28;43;01mNone\u001b[39;49;00m\u001b[43m)\u001b[49m\n\u001b[0;32m    315\u001b[0m     \u001b[38;5;28;01melse\u001b[39;00m:\n\u001b[0;32m    316\u001b[0m         result \u001b[38;5;241m=\u001b[39m coro\u001b[38;5;241m.\u001b[39mthrow(exc)\n",
      "Cell \u001b[1;32mIn[7], line 12\u001b[0m, in \u001b[0;36mmain\u001b[1;34m()\u001b[0m\n\u001b[0;32m     11\u001b[0m \u001b[38;5;28;01masync\u001b[39;00m \u001b[38;5;28;01mdef\u001b[39;00m \u001b[38;5;21mmain\u001b[39m():\n\u001b[1;32m---> 12\u001b[0m     \u001b[38;5;28;01masync\u001b[39;00m \u001b[38;5;28;01mwith\u001b[39;00m websockets\u001b[38;5;241m.\u001b[39mconnect(\u001b[38;5;124m\"\u001b[39m\u001b[38;5;124mwss://data.tradingview.com/socket.io/websocket\u001b[39m\u001b[38;5;124m\"\u001b[39m) \u001b[38;5;28;01mas\u001b[39;00m websocket:\n\u001b[0;32m     13\u001b[0m         \u001b[38;5;66;03m# Authenticate (if needed)\u001b[39;00m\n\u001b[0;32m     14\u001b[0m         \u001b[38;5;66;03m# await websocket.send(json.dumps({\"event\": \"set_auth_token\", \"args\": [\"your_auth_token\"]}))\u001b[39;00m\n\u001b[0;32m     15\u001b[0m \n\u001b[0;32m     16\u001b[0m         \u001b[38;5;66;03m# Resolve symbol\u001b[39;00m\n\u001b[0;32m     17\u001b[0m         \u001b[38;5;28;01mawait\u001b[39;00m websocket\u001b[38;5;241m.\u001b[39msend(json\u001b[38;5;241m.\u001b[39mdumps({\u001b[38;5;124m\"\u001b[39m\u001b[38;5;124mevent\u001b[39m\u001b[38;5;124m\"\u001b[39m: \u001b[38;5;124m\"\u001b[39m\u001b[38;5;124mresolve_symbol\u001b[39m\u001b[38;5;124m\"\u001b[39m, \u001b[38;5;124m\"\u001b[39m\u001b[38;5;124margs\u001b[39m\u001b[38;5;124m\"\u001b[39m: [{\u001b[38;5;124m\"\u001b[39m\u001b[38;5;124msymbol\u001b[39m\u001b[38;5;124m\"\u001b[39m: \u001b[38;5;124m\"\u001b[39m\u001b[38;5;124mBINANCE:BTCUSDT\u001b[39m\u001b[38;5;124m\"\u001b[39m, \u001b[38;5;124m\"\u001b[39m\u001b[38;5;124madjustment\u001b[39m\u001b[38;5;124m\"\u001b[39m: \u001b[38;5;124m\"\u001b[39m\u001b[38;5;124msplits\u001b[39m\u001b[38;5;124m\"\u001b[39m}]}))\n\u001b[0;32m     19\u001b[0m         \u001b[38;5;66;03m# Subscribe to symbol and resolution\u001b[39;00m\n",
      "File \u001b[1;32md:\\py_code_workspace\\.venv\\Lib\\site-packages\\websockets\\legacy\\client.py:642\u001b[0m, in \u001b[0;36mConnect.__aenter__\u001b[1;34m(self)\u001b[0m\n\u001b[0;32m    641\u001b[0m \u001b[38;5;28;01masync\u001b[39;00m \u001b[38;5;28;01mdef\u001b[39;00m \u001b[38;5;21m__aenter__\u001b[39m(\u001b[38;5;28mself\u001b[39m) \u001b[38;5;241m-\u001b[39m\u001b[38;5;241m>\u001b[39m WebSocketClientProtocol:\n\u001b[1;32m--> 642\u001b[0m     \u001b[38;5;28;01mreturn\u001b[39;00m \u001b[38;5;28;01mawait\u001b[39;00m \u001b[38;5;28mself\u001b[39m\n",
      "File \u001b[1;32md:\\py_code_workspace\\.venv\\Lib\\site-packages\\websockets\\legacy\\client.py:659\u001b[0m, in \u001b[0;36mConnect.__await_impl_timeout__\u001b[1;34m(self)\u001b[0m\n\u001b[0;32m    658\u001b[0m \u001b[38;5;28;01masync\u001b[39;00m \u001b[38;5;28;01mdef\u001b[39;00m \u001b[38;5;21m__await_impl_timeout__\u001b[39m(\u001b[38;5;28mself\u001b[39m) \u001b[38;5;241m-\u001b[39m\u001b[38;5;241m>\u001b[39m WebSocketClientProtocol:\n\u001b[1;32m--> 659\u001b[0m     \u001b[38;5;28;01mreturn\u001b[39;00m \u001b[38;5;28;01mawait\u001b[39;00m asyncio\u001b[38;5;241m.\u001b[39mwait_for(\u001b[38;5;28mself\u001b[39m\u001b[38;5;241m.\u001b[39m__await_impl__(), \u001b[38;5;28mself\u001b[39m\u001b[38;5;241m.\u001b[39mopen_timeout)\n",
      "File \u001b[1;32m~\\AppData\\Local\\Programs\\Python\\Python312\\Lib\\asyncio\\tasks.py:520\u001b[0m, in \u001b[0;36mwait_for\u001b[1;34m(fut, timeout)\u001b[0m\n\u001b[0;32m    517\u001b[0m         \u001b[38;5;28;01mraise\u001b[39;00m \u001b[38;5;167;01mTimeoutError\u001b[39;00m \u001b[38;5;28;01mfrom\u001b[39;00m \u001b[38;5;21;01mexc\u001b[39;00m\n\u001b[0;32m    519\u001b[0m \u001b[38;5;28;01masync\u001b[39;00m \u001b[38;5;28;01mwith\u001b[39;00m timeouts\u001b[38;5;241m.\u001b[39mtimeout(timeout):\n\u001b[1;32m--> 520\u001b[0m     \u001b[38;5;28;01mreturn\u001b[39;00m \u001b[38;5;28;01mawait\u001b[39;00m fut\n",
      "File \u001b[1;32md:\\py_code_workspace\\.venv\\Lib\\site-packages\\websockets\\legacy\\client.py:666\u001b[0m, in \u001b[0;36mConnect.__await_impl__\u001b[1;34m(self)\u001b[0m\n\u001b[0;32m    664\u001b[0m protocol \u001b[38;5;241m=\u001b[39m cast(WebSocketClientProtocol, _protocol)\n\u001b[0;32m    665\u001b[0m \u001b[38;5;28;01mtry\u001b[39;00m:\n\u001b[1;32m--> 666\u001b[0m     \u001b[38;5;28;01mawait\u001b[39;00m protocol\u001b[38;5;241m.\u001b[39mhandshake(\n\u001b[0;32m    667\u001b[0m         \u001b[38;5;28mself\u001b[39m\u001b[38;5;241m.\u001b[39m_wsuri,\n\u001b[0;32m    668\u001b[0m         origin\u001b[38;5;241m=\u001b[39mprotocol\u001b[38;5;241m.\u001b[39morigin,\n\u001b[0;32m    669\u001b[0m         available_extensions\u001b[38;5;241m=\u001b[39mprotocol\u001b[38;5;241m.\u001b[39mavailable_extensions,\n\u001b[0;32m    670\u001b[0m         available_subprotocols\u001b[38;5;241m=\u001b[39mprotocol\u001b[38;5;241m.\u001b[39mavailable_subprotocols,\n\u001b[0;32m    671\u001b[0m         extra_headers\u001b[38;5;241m=\u001b[39mprotocol\u001b[38;5;241m.\u001b[39mextra_headers,\n\u001b[0;32m    672\u001b[0m     )\n\u001b[0;32m    673\u001b[0m \u001b[38;5;28;01mexcept\u001b[39;00m RedirectHandshake \u001b[38;5;28;01mas\u001b[39;00m exc:\n\u001b[0;32m    674\u001b[0m     protocol\u001b[38;5;241m.\u001b[39mfail_connection()\n",
      "File \u001b[1;32md:\\py_code_workspace\\.venv\\Lib\\site-packages\\websockets\\legacy\\client.py:332\u001b[0m, in \u001b[0;36mWebSocketClientProtocol.handshake\u001b[1;34m(self, wsuri, origin, available_extensions, available_subprotocols, extra_headers)\u001b[0m\n\u001b[0;32m    330\u001b[0m     \u001b[38;5;28;01mraise\u001b[39;00m RedirectHandshake(response_headers[\u001b[38;5;124m\"\u001b[39m\u001b[38;5;124mLocation\u001b[39m\u001b[38;5;124m\"\u001b[39m])\n\u001b[0;32m    331\u001b[0m \u001b[38;5;28;01melif\u001b[39;00m status_code \u001b[38;5;241m!=\u001b[39m \u001b[38;5;241m101\u001b[39m:\n\u001b[1;32m--> 332\u001b[0m     \u001b[38;5;28;01mraise\u001b[39;00m InvalidStatusCode(status_code, response_headers)\n\u001b[0;32m    334\u001b[0m check_response(response_headers, key)\n\u001b[0;32m    336\u001b[0m \u001b[38;5;28mself\u001b[39m\u001b[38;5;241m.\u001b[39mextensions \u001b[38;5;241m=\u001b[39m \u001b[38;5;28mself\u001b[39m\u001b[38;5;241m.\u001b[39mprocess_extensions(\n\u001b[0;32m    337\u001b[0m     response_headers, available_extensions\n\u001b[0;32m    338\u001b[0m )\n",
      "\u001b[1;31mInvalidStatusCode\u001b[0m: server rejected WebSocket connection: HTTP 403"
     ]
    }
   ],
   "source": [
    "import asyncio\n",
    "import json\n",
    "import time\n",
    "import websockets\n",
    "\n",
    "async def process_data(websocket,data):\n",
    "    # ... (data processing and chart update logic)\n",
    "    print**(\"Processing data:\", data)\n",
    "    pass\n",
    "\n",
    "async def main():\n",
    "    async with websockets.connect(\"wss://data.tradingview.com/socket.io/websocket\") as websocket:\n",
    "        # Authenticate (if needed)\n",
    "        # await websocket.send(json.dumps({\"event\": \"set_auth_token\", \"args\": [\"your_auth_token\"]}))\n",
    "\n",
    "        # Resolve symbol\n",
    "        await websocket.send(json.dumps({\"event\": \"resolve_symbol\", \"args\": [{\"symbol\": \"BINANCE:BTCUSDT\", \"adjustment\": \"splits\"}]}))\n",
    "\n",
    "        # Subscribe to symbol and resolution\n",
    "        await websocket.send(json.dumps({\"event\": \"subscribe_bars\", \"args\": [{\"symbol\": \"BINANCE:BTCUSDT\", \"resolution\": \"1m\", \"subscriberUID\": \"1\"}]}))\n",
    "\n",
    "        while True:\n",
    "            message = await websocket.recv()\n",
    "            data = json.loads(message)\n",
    "            await process_data(websocket, data)  # Pass the websocket and data to your processing function\n",
    "\n",
    "import nest_asyncio\n",
    "nest_asyncio.apply()\n",
    "\n",
    "if __name__ == \"__main__\":\n",
    "    asyncio.run(main())"
   ]
  },
  {
   "cell_type": "code",
   "execution_count": null,
   "id": "8adf3b33",
   "metadata": {},
   "outputs": [],
   "source": [
    "import git\n",
    "# Assuming you have a GitPython instance\n",
    "repo_url = \"https://github.com/rongardF/tvdatafeed.git\"  # Replace with your repo URL\n",
    "branch = \"main\"  # Or tag, commit hash, etc.\n",
    "temp_dir =\".//test_dir\"  # Temporary directory for cloning\n",
    "# 1. Clone the repository\n",
    "repo = git.Repo.clone_from(repo_url, \".//test_dir\", branch=branch)\n",
    "\n",
    "# 2. Checkout the desired branch or commit\n",
    "repo.git.checkout(branch)\n"
   ]
  },
  {
   "cell_type": "code",
   "execution_count": null,
   "id": "71b218b6",
   "metadata": {},
   "outputs": [],
   "source": [
    "!pip install git\n"
   ]
  },
  {
   "cell_type": "code",
   "execution_count": null,
   "id": "b1286c7d",
   "metadata": {},
   "outputs": [],
   "source": [
    "!pip install --upgrade --no-cache-dir git+https://github.com/rongardF/tvdatafeed"
   ]
  },
  {
   "cell_type": "code",
   "execution_count": 17,
   "id": "5fb703ba",
   "metadata": {},
   "outputs": [
    {
     "name": "stderr",
     "output_type": "stream",
     "text": [
      "WARNING:tvDatafeed.main:you are using nologin method, data you access may be limited\n"
     ]
    },
    {
     "data": {
      "application/vnd.microsoft.datawrangler.viewer.v0+json": {
       "columns": [
        {
         "name": "datetime",
         "rawType": "datetime64[ns]",
         "type": "datetime"
        },
        {
         "name": "symbol",
         "rawType": "object",
         "type": "string"
        },
        {
         "name": "open",
         "rawType": "float64",
         "type": "float"
        },
        {
         "name": "high",
         "rawType": "float64",
         "type": "float"
        },
        {
         "name": "low",
         "rawType": "float64",
         "type": "float"
        },
        {
         "name": "close",
         "rawType": "float64",
         "type": "float"
        },
        {
         "name": "volume",
         "rawType": "float64",
         "type": "float"
        }
       ],
       "conversionMethod": "pd.DataFrame",
       "ref": "d025bfdc-c7ad-4bdc-8709-7d72a261d04d",
       "rows": [
        [
         "2025-04-11 11:00:00",
         "NSE:NIFTY",
         "22806.65",
         "22819.25",
         "22805.7",
         "22819.25",
         "1044145.0"
        ],
        [
         "2025-04-11 11:01:00",
         "NSE:NIFTY",
         "22819.5",
         "22825.5",
         "22818.95",
         "22819.4",
         "1001742.0"
        ],
        [
         "2025-04-11 11:02:00",
         "NSE:NIFTY",
         "22819.45",
         "22821.15",
         "22813.45",
         "22813.45",
         "575376.0"
        ],
        [
         "2025-04-11 11:03:00",
         "NSE:NIFTY",
         "22813.05",
         "22813.45",
         "22806.7",
         "22813.3",
         "654965.0"
        ],
        [
         "2025-04-11 11:04:00",
         "NSE:NIFTY",
         "22813.2",
         "22821.9",
         "22813.2",
         "22816.2",
         "533026.0"
        ],
        [
         "2025-04-11 11:05:00",
         "NSE:NIFTY",
         "22816.0",
         "22819.7",
         "22813.05",
         "22816.05",
         "852424.0"
        ],
        [
         "2025-04-11 11:06:00",
         "NSE:NIFTY",
         "22816.45",
         "22821.45",
         "22815.45",
         "22820.4",
         "767212.0"
        ],
        [
         "2025-04-11 11:07:00",
         "NSE:NIFTY",
         "22820.9",
         "22825.45",
         "22818.35",
         "22825.45",
         "739296.0"
        ],
        [
         "2025-04-11 11:08:00",
         "NSE:NIFTY",
         "22825.35",
         "22827.9",
         "22819.0",
         "22821.55",
         "657145.0"
        ],
        [
         "2025-04-11 11:09:00",
         "NSE:NIFTY",
         "22821.7",
         "22823.35",
         "22817.65",
         "22819.05",
         "372479.0"
        ]
       ],
       "shape": {
        "columns": 6,
        "rows": 10
       }
      },
      "text/html": [
       "<div>\n",
       "<style scoped>\n",
       "    .dataframe tbody tr th:only-of-type {\n",
       "        vertical-align: middle;\n",
       "    }\n",
       "\n",
       "    .dataframe tbody tr th {\n",
       "        vertical-align: top;\n",
       "    }\n",
       "\n",
       "    .dataframe thead th {\n",
       "        text-align: right;\n",
       "    }\n",
       "</style>\n",
       "<table border=\"1\" class=\"dataframe\">\n",
       "  <thead>\n",
       "    <tr style=\"text-align: right;\">\n",
       "      <th></th>\n",
       "      <th>symbol</th>\n",
       "      <th>open</th>\n",
       "      <th>high</th>\n",
       "      <th>low</th>\n",
       "      <th>close</th>\n",
       "      <th>volume</th>\n",
       "    </tr>\n",
       "    <tr>\n",
       "      <th>datetime</th>\n",
       "      <th></th>\n",
       "      <th></th>\n",
       "      <th></th>\n",
       "      <th></th>\n",
       "      <th></th>\n",
       "      <th></th>\n",
       "    </tr>\n",
       "  </thead>\n",
       "  <tbody>\n",
       "    <tr>\n",
       "      <th>2025-04-11 11:00:00</th>\n",
       "      <td>NSE:NIFTY</td>\n",
       "      <td>22806.65</td>\n",
       "      <td>22819.25</td>\n",
       "      <td>22805.70</td>\n",
       "      <td>22819.25</td>\n",
       "      <td>1044145.0</td>\n",
       "    </tr>\n",
       "    <tr>\n",
       "      <th>2025-04-11 11:01:00</th>\n",
       "      <td>NSE:NIFTY</td>\n",
       "      <td>22819.50</td>\n",
       "      <td>22825.50</td>\n",
       "      <td>22818.95</td>\n",
       "      <td>22819.40</td>\n",
       "      <td>1001742.0</td>\n",
       "    </tr>\n",
       "    <tr>\n",
       "      <th>2025-04-11 11:02:00</th>\n",
       "      <td>NSE:NIFTY</td>\n",
       "      <td>22819.45</td>\n",
       "      <td>22821.15</td>\n",
       "      <td>22813.45</td>\n",
       "      <td>22813.45</td>\n",
       "      <td>575376.0</td>\n",
       "    </tr>\n",
       "    <tr>\n",
       "      <th>2025-04-11 11:03:00</th>\n",
       "      <td>NSE:NIFTY</td>\n",
       "      <td>22813.05</td>\n",
       "      <td>22813.45</td>\n",
       "      <td>22806.70</td>\n",
       "      <td>22813.30</td>\n",
       "      <td>654965.0</td>\n",
       "    </tr>\n",
       "    <tr>\n",
       "      <th>2025-04-11 11:04:00</th>\n",
       "      <td>NSE:NIFTY</td>\n",
       "      <td>22813.20</td>\n",
       "      <td>22821.90</td>\n",
       "      <td>22813.20</td>\n",
       "      <td>22816.20</td>\n",
       "      <td>533026.0</td>\n",
       "    </tr>\n",
       "    <tr>\n",
       "      <th>2025-04-11 11:05:00</th>\n",
       "      <td>NSE:NIFTY</td>\n",
       "      <td>22816.00</td>\n",
       "      <td>22819.70</td>\n",
       "      <td>22813.05</td>\n",
       "      <td>22816.05</td>\n",
       "      <td>852424.0</td>\n",
       "    </tr>\n",
       "    <tr>\n",
       "      <th>2025-04-11 11:06:00</th>\n",
       "      <td>NSE:NIFTY</td>\n",
       "      <td>22816.45</td>\n",
       "      <td>22821.45</td>\n",
       "      <td>22815.45</td>\n",
       "      <td>22820.40</td>\n",
       "      <td>767212.0</td>\n",
       "    </tr>\n",
       "    <tr>\n",
       "      <th>2025-04-11 11:07:00</th>\n",
       "      <td>NSE:NIFTY</td>\n",
       "      <td>22820.90</td>\n",
       "      <td>22825.45</td>\n",
       "      <td>22818.35</td>\n",
       "      <td>22825.45</td>\n",
       "      <td>739296.0</td>\n",
       "    </tr>\n",
       "    <tr>\n",
       "      <th>2025-04-11 11:08:00</th>\n",
       "      <td>NSE:NIFTY</td>\n",
       "      <td>22825.35</td>\n",
       "      <td>22827.90</td>\n",
       "      <td>22819.00</td>\n",
       "      <td>22821.55</td>\n",
       "      <td>657145.0</td>\n",
       "    </tr>\n",
       "    <tr>\n",
       "      <th>2025-04-11 11:09:00</th>\n",
       "      <td>NSE:NIFTY</td>\n",
       "      <td>22821.70</td>\n",
       "      <td>22823.35</td>\n",
       "      <td>22817.65</td>\n",
       "      <td>22819.05</td>\n",
       "      <td>372479.0</td>\n",
       "    </tr>\n",
       "  </tbody>\n",
       "</table>\n",
       "</div>"
      ],
      "text/plain": [
       "                        symbol      open      high       low     close  \\\n",
       "datetime                                                                 \n",
       "2025-04-11 11:00:00  NSE:NIFTY  22806.65  22819.25  22805.70  22819.25   \n",
       "2025-04-11 11:01:00  NSE:NIFTY  22819.50  22825.50  22818.95  22819.40   \n",
       "2025-04-11 11:02:00  NSE:NIFTY  22819.45  22821.15  22813.45  22813.45   \n",
       "2025-04-11 11:03:00  NSE:NIFTY  22813.05  22813.45  22806.70  22813.30   \n",
       "2025-04-11 11:04:00  NSE:NIFTY  22813.20  22821.90  22813.20  22816.20   \n",
       "2025-04-11 11:05:00  NSE:NIFTY  22816.00  22819.70  22813.05  22816.05   \n",
       "2025-04-11 11:06:00  NSE:NIFTY  22816.45  22821.45  22815.45  22820.40   \n",
       "2025-04-11 11:07:00  NSE:NIFTY  22820.90  22825.45  22818.35  22825.45   \n",
       "2025-04-11 11:08:00  NSE:NIFTY  22825.35  22827.90  22819.00  22821.55   \n",
       "2025-04-11 11:09:00  NSE:NIFTY  22821.70  22823.35  22817.65  22819.05   \n",
       "\n",
       "                        volume  \n",
       "datetime                        \n",
       "2025-04-11 11:00:00  1044145.0  \n",
       "2025-04-11 11:01:00  1001742.0  \n",
       "2025-04-11 11:02:00   575376.0  \n",
       "2025-04-11 11:03:00   654965.0  \n",
       "2025-04-11 11:04:00   533026.0  \n",
       "2025-04-11 11:05:00   852424.0  \n",
       "2025-04-11 11:06:00   767212.0  \n",
       "2025-04-11 11:07:00   739296.0  \n",
       "2025-04-11 11:08:00   657145.0  \n",
       "2025-04-11 11:09:00   372479.0  "
      ]
     },
     "execution_count": 17,
     "metadata": {},
     "output_type": "execute_result"
    }
   ],
   "source": [
    "from tvDatafeed import TvDatafeedLive, Interval\n",
    "\n",
    "username = 'YourTradingViewUsername'\n",
    "password = 'YourTradingViewPassword'\n",
    "\n",
    "tvl = TvDatafeedLive()\n",
    "#tv = TvDatafeed.TvDatafeed()\n",
    "\n",
    "def consumer_func1(seis, data):\n",
    "\tprint(\"Open price for \"+seis.symbol+\" on \"+seis.exchange+\" exchange with \"+seis.interval.name+\" interval was \"+str(data.open[0]))\n",
    "\n",
    "def consumer_func2(seis, data):\n",
    "\tprint(\"Volume of \"+seis.symbol+\" on \"+seis.exchange+\" exchange with \"+seis.interval.name+\" interval was \"+str(data.volume[0]))\n",
    "\n",
    "def consumer_func3(seis, data):\n",
    "\tprint(\"Close price for \"+seis.symbol+\" on \"+seis.exchange+\" exchange with \"+seis.interval.name+\" interval was \"+str(data.close[0]))\n",
    "\n",
    "\n",
    "df = tvl.get_hist('NIFTY','NSE', Interval.in_1_minute ,n_bars=10)\n",
    "\n",
    "# consumer1=tvl.new_consumer(seis, consumer_func1)\n",
    "# consumer2=seis.new_consumer(consumer_func2)\n",
    "# consumer3=seis.new_consumer(consumer_func3)\n",
    "\n",
    "df"
   ]
  },
  {
   "cell_type": "code",
   "execution_count": null,
   "id": "f5a0b267",
   "metadata": {},
   "outputs": [],
   "source": []
  }
 ],
 "metadata": {
  "kernelspec": {
   "display_name": ".venv",
   "language": "python",
   "name": "python3"
  },
  "language_info": {
   "codemirror_mode": {
    "name": "ipython",
    "version": 3
   },
   "file_extension": ".py",
   "mimetype": "text/x-python",
   "name": "python",
   "nbconvert_exporter": "python",
   "pygments_lexer": "ipython3",
   "version": "3.12.4"
  }
 },
 "nbformat": 4,
 "nbformat_minor": 5
}
