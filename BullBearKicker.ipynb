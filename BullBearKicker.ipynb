{
 "cells": [
  {
   "cell_type": "code",
   "execution_count": null,
   "id": "7011ffbe",
   "metadata": {},
   "outputs": [],
   "source": [
    "\n",
    "\n",
    "\n",
    "import pandas as pd\n",
    "pd.set_option('display.expand_frame_repr', False)\n",
    "pd.set_option('display.max_columns', None)\n",
    "pd.set_option('display.width', 0) # Adjust as needed, 0 will use the full available width\n",
    "\n",
    "from tradingview_screener import Query, col\n",
    "\n",
    "from time import sleep \n",
    "while True :\n",
    "    tvQuery = Query().set_markets('india') .set_index('SYML:NSE;CNX500')\n",
    "    _,dfNew = (tvQuery\n",
    "    .select('name', 'close', 'volume','Candle.Kicking.Bullish|5','Candle.Kicking.Bearish|5', 'relative_volume_10d_calc|1', 'relative_volume_10d_calc|5','relative_volume_intraday|5','relative_volume','VWMA',)\n",
    "    .where(      #col('relative_volume_10d_calc') > 1,\n",
    "            # col('relative_volume_intraday|5') > 1.2,  \n",
    "            col('Candle.Kicking.Bullish|5') ==1,\n",
    "            \n",
    "        )\n",
    "    .order_by('relative_volume_intraday|5', ascending=False)\n",
    "    .get_scanner_data()) \n",
    "    if not dfNew.empty :\n",
    "        print(dfNew)\n",
    "\n",
    "    _,dfNew = (tvQuery\n",
    "    .select('name', 'close', 'volume','Candle.Kicking.Bullish|5','Candle.Kicking.Bearish|5', 'relative_volume_10d_calc|1', 'relative_volume_10d_calc|5','relative_volume_intraday|5','relative_volume','VWMA',)\n",
    "    .where(      #col('relative_volume_10d_calc') > 1,\n",
    "            # col('relative_volume_intraday|5') > 1.2,  \n",
    "            col('Candle.Kicking.Bearish|5') ==1,\n",
    "            \n",
    "        )\n",
    "    .order_by('relative_volume_intraday|5', ascending=False)\n",
    "    .get_scanner_data()) \n",
    "    if not dfNew.empty :\n",
    "        print(dfNew)\n",
    "\n",
    "    sleep(15) \n",
    "\n",
    "\n",
    "\n",
    "\n"
   ]
  }
 ],
 "metadata": {
  "kernelspec": {
   "display_name": ".venv",
   "language": "python",
   "name": "python3"
  },
  "language_info": {
   "codemirror_mode": {
    "name": "ipython",
    "version": 3
   },
   "file_extension": ".py",
   "mimetype": "text/x-python",
   "name": "python",
   "nbconvert_exporter": "python",
   "pygments_lexer": "ipython3",
   "version": "3.12.4"
  }
 },
 "nbformat": 4,
 "nbformat_minor": 5
}
