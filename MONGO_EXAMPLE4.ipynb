{
 "cells": [
  {
   "cell_type": "code",
   "execution_count": null,
   "id": "7cfd76f8",
   "metadata": {},
   "outputs": [],
   "source": [
    "import pymongoarrow\n",
    "import pandas as pd\n"
   ]
  },
  {
   "cell_type": "code",
   "execution_count": null,
   "id": "723592ca",
   "metadata": {},
   "outputs": [],
   "source": [
    "from pymongo import MongoClient\n",
    "MONGO_CONN_STRING = \"mongodb://localhost:27017/\"\n",
    "client = MongoClient(MONGO_CONN_STRING)"
   ]
  },
  {
   "cell_type": "code",
   "execution_count": null,
   "id": "d082945d",
   "metadata": {},
   "outputs": [],
   "source": [
    "\n",
    "# pymongoarrow.monkey module provided an interface to patch pymongo, in place, and add pymongoarrow's functionality directly to collection instance. \n",
    "\n",
    "from pymongoarrow.monkey import patch_all\n",
    "patch_all()\n",
    "\n",
    "# Let's use the pymongoarrow's find_pandas_all() function to read MongoDB query result sets into \n",
    "collection = client.get_database(\"NSE_TOTAL_MARKET\").get_collection(\"testLiveFeed\")\n",
    "df = collection.find_pandas_all({})"
   ]
  },
  {
   "cell_type": "code",
   "execution_count": null,
   "id": "3adf5c80",
   "metadata": {},
   "outputs": [],
   "source": [
    "df.head(5)"
   ]
  },
  {
   "cell_type": "code",
   "execution_count": null,
   "id": "301a0e92",
   "metadata": {},
   "outputs": [],
   "source": [
    "df.sort_values(by=[ 'Timestamp'], inplace=True)\n"
   ]
  },
  {
   "cell_type": "code",
   "execution_count": null,
   "id": "4bc8d2e1",
   "metadata": {},
   "outputs": [],
   "source": [
    "df.head(5)"
   ]
  },
  {
   "cell_type": "code",
   "execution_count": null,
   "id": "069e37d6",
   "metadata": {},
   "outputs": [],
   "source": [
    "df[df['symbol']=='BSE'].head(5)   \n"
   ]
  },
  {
   "cell_type": "code",
   "execution_count": null,
   "id": "9e6afdd5",
   "metadata": {},
   "outputs": [],
   "source": []
  },
  {
   "cell_type": "code",
   "execution_count": null,
   "id": "3e2af7c1",
   "metadata": {},
   "outputs": [],
   "source": [
    "import pandas as pd\n",
    "assetValues = pd.DataFrame(columns=['symbol', 'start','end'])"
   ]
  },
  {
   "cell_type": "code",
   "execution_count": null,
   "id": "6b412f8d",
   "metadata": {},
   "outputs": [],
   "source": [
    "assetValues\n",
    "assetValues = assetValues.concat()\n",
    "assetValues"
   ]
  },
  {
   "cell_type": "code",
   "execution_count": null,
   "id": "28444c98",
   "metadata": {},
   "outputs": [],
   "source": [
    "\n",
    "# dff = pd.DataFrame(data=d)"
   ]
  },
  {
   "cell_type": "code",
   "execution_count": 20,
   "id": "1887ac3b",
   "metadata": {},
   "outputs": [
    {
     "data": {
      "application/vnd.microsoft.datawrangler.viewer.v0+json": {
       "columns": [
        {
         "name": "index",
         "rawType": "int64",
         "type": "integer"
        },
        {
         "name": "symbol",
         "rawType": "object",
         "type": "string"
        },
        {
         "name": "start",
         "rawType": "int64",
         "type": "integer"
        },
        {
         "name": "end",
         "rawType": "int64",
         "type": "integer"
        }
       ],
       "conversionMethod": "pd.DataFrame",
       "ref": "a09c76bd-c740-43da-966e-e73d46c67039",
       "rows": [
        [
         "0",
         "aa",
         "3",
         "100"
        ]
       ],
       "shape": {
        "columns": 3,
        "rows": 1
       }
      },
      "text/html": [
       "<div>\n",
       "<style scoped>\n",
       "    .dataframe tbody tr th:only-of-type {\n",
       "        vertical-align: middle;\n",
       "    }\n",
       "\n",
       "    .dataframe tbody tr th {\n",
       "        vertical-align: top;\n",
       "    }\n",
       "\n",
       "    .dataframe thead th {\n",
       "        text-align: right;\n",
       "    }\n",
       "</style>\n",
       "<table border=\"1\" class=\"dataframe\">\n",
       "  <thead>\n",
       "    <tr style=\"text-align: right;\">\n",
       "      <th></th>\n",
       "      <th>symbol</th>\n",
       "      <th>start</th>\n",
       "      <th>end</th>\n",
       "    </tr>\n",
       "  </thead>\n",
       "  <tbody>\n",
       "    <tr>\n",
       "      <th>0</th>\n",
       "      <td>aa</td>\n",
       "      <td>3</td>\n",
       "      <td>100</td>\n",
       "    </tr>\n",
       "  </tbody>\n",
       "</table>\n",
       "</div>"
      ],
      "text/plain": [
       "  symbol  start  end\n",
       "0     aa      3  100"
      ]
     },
     "execution_count": 20,
     "metadata": {},
     "output_type": "execute_result"
    }
   ],
   "source": [
    "dff"
   ]
  },
  {
   "cell_type": "code",
   "execution_count": null,
   "id": "5fa9e2a7",
   "metadata": {},
   "outputs": [
    {
     "data": {
      "application/vnd.microsoft.datawrangler.viewer.v0+json": {
       "columns": [
        {
         "name": "index",
         "rawType": "int64",
         "type": "integer"
        },
        {
         "name": "symbol",
         "rawType": "object",
         "type": "unknown"
        },
        {
         "name": "start",
         "rawType": "object",
         "type": "unknown"
        },
        {
         "name": "end",
         "rawType": "object",
         "type": "unknown"
        }
       ],
       "conversionMethod": "pd.DataFrame",
       "ref": "fd33b403-f7ef-4bb3-b3d4-f8c89cc45d5f",
       "rows": [
        [
         "0",
         "aa",
         "3",
         "100"
        ],
        [
         "1",
         "['aa']",
         "[3]",
         "[100]"
        ],
        [
         "2",
         "['aa']",
         "[3]",
         "[100]"
        ],
        [
         "3",
         "['aa']",
         "[3]",
         "[100]"
        ],
        [
         "4",
         "aa",
         "3",
         "100"
        ],
        [
         "5",
         "aa",
         "3",
         "100"
        ],
        [
         "6",
         "aa",
         "3",
         "100"
        ]
       ],
       "shape": {
        "columns": 3,
        "rows": 7
       }
      },
      "text/html": [
       "<div>\n",
       "<style scoped>\n",
       "    .dataframe tbody tr th:only-of-type {\n",
       "        vertical-align: middle;\n",
       "    }\n",
       "\n",
       "    .dataframe tbody tr th {\n",
       "        vertical-align: top;\n",
       "    }\n",
       "\n",
       "    .dataframe thead th {\n",
       "        text-align: right;\n",
       "    }\n",
       "</style>\n",
       "<table border=\"1\" class=\"dataframe\">\n",
       "  <thead>\n",
       "    <tr style=\"text-align: right;\">\n",
       "      <th></th>\n",
       "      <th>symbol</th>\n",
       "      <th>start</th>\n",
       "      <th>end</th>\n",
       "    </tr>\n",
       "  </thead>\n",
       "  <tbody>\n",
       "    <tr>\n",
       "      <th>0</th>\n",
       "      <td>aa</td>\n",
       "      <td>3</td>\n",
       "      <td>100</td>\n",
       "    </tr>\n",
       "    <tr>\n",
       "      <th>1</th>\n",
       "      <td>[aa]</td>\n",
       "      <td>[3]</td>\n",
       "      <td>[100]</td>\n",
       "    </tr>\n",
       "    <tr>\n",
       "      <th>2</th>\n",
       "      <td>[aa]</td>\n",
       "      <td>[3]</td>\n",
       "      <td>[100]</td>\n",
       "    </tr>\n",
       "    <tr>\n",
       "      <th>3</th>\n",
       "      <td>[aa]</td>\n",
       "      <td>[3]</td>\n",
       "      <td>[100]</td>\n",
       "    </tr>\n",
       "    <tr>\n",
       "      <th>4</th>\n",
       "      <td>aa</td>\n",
       "      <td>3</td>\n",
       "      <td>100</td>\n",
       "    </tr>\n",
       "    <tr>\n",
       "      <th>5</th>\n",
       "      <td>aa</td>\n",
       "      <td>3</td>\n",
       "      <td>100</td>\n",
       "    </tr>\n",
       "    <tr>\n",
       "      <th>6</th>\n",
       "      <td>aa</td>\n",
       "      <td>3</td>\n",
       "      <td>100</td>\n",
       "    </tr>\n",
       "  </tbody>\n",
       "</table>\n",
       "</div>"
      ],
      "text/plain": [
       "  symbol start    end\n",
       "0     aa     3    100\n",
       "1   [aa]   [3]  [100]\n",
       "2   [aa]   [3]  [100]\n",
       "3   [aa]   [3]  [100]\n",
       "4     aa     3    100\n",
       "5     aa     3    100\n",
       "6     aa     3    100"
      ]
     },
     "execution_count": 32,
     "metadata": {},
     "output_type": "execute_result"
    }
   ],
   "source": [
    "\n",
    "dff"
   ]
  },
  {
   "cell_type": "code",
   "execution_count": 18,
   "id": "b44c35d4",
   "metadata": {},
   "outputs": [
    {
     "data": {
      "application/vnd.microsoft.datawrangler.viewer.v0+json": {
       "columns": [
        {
         "name": "index",
         "rawType": "int64",
         "type": "integer"
        },
        {
         "name": "symbol",
         "rawType": "object",
         "type": "unknown"
        },
        {
         "name": "start",
         "rawType": "object",
         "type": "unknown"
        },
        {
         "name": "end",
         "rawType": "object",
         "type": "unknown"
        }
       ],
       "conversionMethod": "pd.DataFrame",
       "ref": "9faa8ab4-1d74-49a2-9793-23819cfeb84e",
       "rows": [
        [
         "0",
         null,
         null,
         null
        ]
       ],
       "shape": {
        "columns": 3,
        "rows": 1
       }
      },
      "text/html": [
       "<div>\n",
       "<style scoped>\n",
       "    .dataframe tbody tr th:only-of-type {\n",
       "        vertical-align: middle;\n",
       "    }\n",
       "\n",
       "    .dataframe tbody tr th {\n",
       "        vertical-align: top;\n",
       "    }\n",
       "\n",
       "    .dataframe thead th {\n",
       "        text-align: right;\n",
       "    }\n",
       "</style>\n",
       "<table border=\"1\" class=\"dataframe\">\n",
       "  <thead>\n",
       "    <tr style=\"text-align: right;\">\n",
       "      <th></th>\n",
       "      <th>symbol</th>\n",
       "      <th>start</th>\n",
       "      <th>end</th>\n",
       "    </tr>\n",
       "  </thead>\n",
       "  <tbody>\n",
       "    <tr>\n",
       "      <th>0</th>\n",
       "      <td>NaN</td>\n",
       "      <td>NaN</td>\n",
       "      <td>NaN</td>\n",
       "    </tr>\n",
       "  </tbody>\n",
       "</table>\n",
       "</div>"
      ],
      "text/plain": [
       "  symbol start  end\n",
       "0    NaN   NaN  NaN"
      ]
     },
     "execution_count": 18,
     "metadata": {},
     "output_type": "execute_result"
    }
   ],
   "source": [
    "df"
   ]
  },
  {
   "cell_type": "code",
   "execution_count": null,
   "id": "afd7066b",
   "metadata": {},
   "outputs": [],
   "source": [
    "\n",
    "\n",
    "import pandas as pd\n",
    "import requests\n",
    "import numpy as np\n",
    "from lightweight_charts import Chart\n",
    "import time\n",
    "import asyncio\n",
    "import nest_asyncio\n",
    "nest_asyncio.apply()\n"
   ]
  },
  {
   "cell_type": "code",
   "execution_count": null,
   "id": "7b482a97",
   "metadata": {},
   "outputs": [],
   "source": [
    "\n",
    "\n",
    "\n",
    "\n",
    "from pymongo import MongoClient\n",
    "MONGO_CONN_STRING = \"mongodb://localhost:27017/\"\n",
    "client = MongoClient(MONGO_CONN_STRING)\n",
    "\n",
    "\n",
    "\n",
    "# pymongoarrow.monkey module provided an interface to patch pymongo, in place, and add pymongoarrow's functionality directly to collection instance. \n",
    "\n",
    "from pymongoarrow.monkey import patch_all\n",
    "patch_all()\n",
    "\n",
    "# Let's use the pymongoarrow's find_pandas_all() function to read MongoDB query result sets into \n",
    "collection = client.get_database(\"NSE_DATA\").get_collection(\"BSE-EQ\")\n",
    "df = collection.find_pandas_all({})\n",
    "\n",
    "df.sort_values(by=[ 'Timestamp'], inplace=True)\n",
    "\n",
    "#df[df['symbol']=='BSE'].head(5)   \n",
    "\n",
    "df.head(5)   \n"
   ]
  },
  {
   "cell_type": "code",
   "execution_count": null,
   "id": "7d6973f6",
   "metadata": {},
   "outputs": [],
   "source": [
    "# api_key = 'YOUR API KEY'\n",
    "# hist_json = requests.get(f'https://financialmodelingprep.com/api/v3/historical-price-full/AAPL?apikey={api_key}').json()\n",
    "\n",
    "# hist_df = pd.DataFrame(hist_json['historical']).drop('label', axis = 1)\n",
    "# hist_df = hist_df.iloc[::-1].reset_index().drop(['index','adjClose'], axis = 1)\n",
    "# hist_df.date = pd.to_datetime(hist_df.date)\n",
    "# hist_df = hist_df.iloc[:,:6].iloc[-365:]\n",
    "# hist_df.columns = ['time', 'open', 'high', 'low', 'close', 'volume']\n",
    "\n",
    "# hist_df.tail()"
   ]
  },
  {
   "cell_type": "code",
   "execution_count": null,
   "id": "98eff546",
   "metadata": {
    "vscode": {
     "languageId": "javascript"
    }
   },
   "outputs": [],
   "source": [
    "new_df = df[['Timestamp', 'Open', 'High', 'Low', 'Close', 'Volume']].copy()\n",
    "new_df.columns = ['time', 'open', 'high', 'low', 'close', 'volume']\n",
    "new_df.head()"
   ]
  },
  {
   "cell_type": "code",
   "execution_count": null,
   "id": "a3c05927",
   "metadata": {},
   "outputs": [],
   "source": [
    "new_df['time'] = pd.to_datetime(new_df['time'])"
   ]
  },
  {
   "cell_type": "code",
   "execution_count": null,
   "id": "98c61c30",
   "metadata": {},
   "outputs": [],
   "source": [
    "\n",
    "\n",
    "# chart = Chart()\n",
    "# chart.set(new_df)\n",
    "# chart.show(block = False)\n",
    "# Jupyter\n",
    "from lightweight_charts import JupyterChart\n",
    "from lightweight_charts import JupyterChart\n",
    "\n",
    "chart = JupyterChart(inner_width=0.5, inner_height=0.5)\n",
    "chart2 = chart.create_subchart(position='right', width=0.5, height=0.5)\n",
    "chart3 = chart.create_subchart(position='left', width=0.5, height=0.5)\n",
    "chart4 = chart.create_subchart(position='right', width=0.5, height=0.5)\n",
    "chart5 = chart.create_subchart(position='right', width=0.5, height=0.5)\n",
    "chart6 = chart.create_subchart(position='left', width=0.5, height=0.5)\n",
    "chart7 = chart.create_subchart(position='right', width=0.5, height=0.5)\n",
    "\n",
    "chart.watermark('1')\n",
    "chart2.watermark('2')\n",
    "chart3.watermark('3')\n",
    "chart4.watermark('4')\n",
    "chart5.watermark('2')\n",
    "chart6.watermark('3')\n",
    "chart7.watermark('4')\n",
    "\n",
    "df =new_df.copy()\n",
    "chart.set(df)\n",
    "chart2.set(df)\n",
    "chart3.set(df)\n",
    "chart4.set(df)\n",
    "chart5.set(df)\n",
    "chart6.set(df)\n",
    "chart7.set(df)\n",
    "\n",
    "chart.load()"
   ]
  },
  {
   "cell_type": "code",
   "execution_count": null,
   "id": "866bfe11",
   "metadata": {},
   "outputs": [],
   "source": [
    "import pandas as pd\n",
    "from lightweight_charts import Chart\n",
    "\n",
    "from lightweight_charts import JupyterChart\n",
    "\n",
    "#chart = JupyterChart(inner_width=0.5, inner_height=0.5)\n",
    "\n",
    "# ascii symbols\n",
    "FULLSCREEN = '■'\n",
    "CLOSE = '×'\n",
    "\n",
    "\n",
    "def on_max(target_chart):\n",
    "    button = target_chart.topbar['max']\n",
    "    if button.value == CLOSE:\n",
    "        [c.resize(0.5, 0.5) for c in charts]\n",
    "        button.set(FULLSCREEN)\n",
    "    else:\n",
    "        for chart in charts:\n",
    "            width, height = (1, 1) if chart == target_chart else (0, 0)\n",
    "            chart.resize(width, height)\n",
    "        button.set(CLOSE)\n",
    "\n",
    "\n",
    "if __name__ == '__main__':\n",
    "    main_chart = JupyterChart(inner_width=0.5, inner_height=0.5)\n",
    "    charts = [\n",
    "        main_chart,\n",
    "        main_chart.create_subchart(position='top', width=0.5, height=0.5),\n",
    "        main_chart.create_subchart(position='left', width=0.5, height=0.5),\n",
    "        main_chart.create_subchart(position='right', width=0.5, height=0.5),\n",
    "    ]\n",
    "\n",
    "    for i, c in enumerate(charts):\n",
    "        chart_number = str(i+1)\n",
    "        c.watermark(chart_number)\n",
    "        c.topbar.textbox('number', chart_number)\n",
    "        c.topbar.button('max', FULLSCREEN, False, align='right', func=on_max)\n",
    "        c.set(df)\n",
    "\n",
    "    charts[0].load()\n",
    "    # charts[0].show(block=False)"
   ]
  },
  {
   "cell_type": "code",
   "execution_count": null,
   "id": "aa758a0e",
   "metadata": {},
   "outputs": [],
   "source": [
    "# Jupyter\n",
    "from lightweight_charts import JupyterChart\n",
    "from lightweight_charts import JupyterChart\n",
    "\n",
    "chart = JupyterChart()\n",
    "# ... set data to the chart\n",
    "\n",
    "chart.set(new_df)\n",
    "chart.load()"
   ]
  }
 ],
 "metadata": {
  "kernelspec": {
   "display_name": ".venv",
   "language": "python",
   "name": "python3"
  },
  "language_info": {
   "codemirror_mode": {
    "name": "ipython",
    "version": 3
   },
   "file_extension": ".py",
   "mimetype": "text/x-python",
   "name": "python",
   "nbconvert_exporter": "python",
   "pygments_lexer": "ipython3",
   "version": "3.12.4"
  }
 },
 "nbformat": 4,
 "nbformat_minor": 5
}
